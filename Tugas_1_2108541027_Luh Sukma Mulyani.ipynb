{
 "cells": [
  {
   "cell_type": "markdown",
   "id": "1e145cac",
   "metadata": {},
   "source": [
    "# 5.1 Print"
   ]
  },
  {
   "cell_type": "code",
   "execution_count": null,
   "id": "5a8b0aa0",
   "metadata": {},
   "outputs": [],
   "source": [
    "print('Ini Kelas Algoritma!')"
   ]
  },
  {
   "cell_type": "code",
   "execution_count": null,
   "id": "cd729300",
   "metadata": {},
   "outputs": [],
   "source": [
    "print('Aku Suka Dia')"
   ]
  },
  {
   "cell_type": "code",
   "execution_count": null,
   "id": "c5a4aaa7",
   "metadata": {},
   "outputs": [],
   "source": [
    "print(\"How we can see?\")"
   ]
  },
  {
   "cell_type": "code",
   "execution_count": null,
   "id": "510f69c5",
   "metadata": {},
   "outputs": [],
   "source": [
    "print('I love him so much')"
   ]
  },
  {
   "cell_type": "code",
   "execution_count": null,
   "id": "19c09daf",
   "metadata": {},
   "outputs": [],
   "source": [
    "print('I don't know about that')"
   ]
  },
  {
   "cell_type": "code",
   "execution_count": null,
   "id": "fd75435f",
   "metadata": {},
   "outputs": [],
   "source": [
    "print(\"I don't know about that\")"
   ]
  },
  {
   "cell_type": "code",
   "execution_count": null,
   "id": "811d472e",
   "metadata": {},
   "outputs": [],
   "source": [
    "mahasiswi027 = 42\n",
    "uang_di_dompet = 50000\n",
    "print(mahasiswi027)\n",
    "print(uang_di_dompet)\n",
    "print(mahasiswi027*uang_di_dompet)"
   ]
  },
  {
   "cell_type": "code",
   "execution_count": null,
   "id": "fb494736",
   "metadata": {},
   "outputs": [],
   "source": [
    "nama_depan = 'Luh'\n",
    "nama_tengah = ' Sukma'\n",
    "nama_belakang = ' Mulyani'\n",
    "print(nama_depan + nama_tengah + nama_belakang)"
   ]
  },
  {
   "cell_type": "code",
   "execution_count": null,
   "id": "4bc27b5f",
   "metadata": {},
   "outputs": [],
   "source": [
    "pekerja = 20\n",
    "gaji_bulanan = 2500000\n",
    "print(pekerja*gaji_bulanan)"
   ]
  },
  {
   "cell_type": "code",
   "execution_count": null,
   "id": "9aa5b634",
   "metadata": {},
   "outputs": [],
   "source": [
    "nama = 'Sukma Mulyani '\n",
    "status = \"mahasiswi \"\n",
    "institusi = \"Universitas Udayana \"\n",
    "print(nama + 'adalah ' + status + institusi)"
   ]
  },
  {
   "cell_type": "markdown",
   "id": "c2e64da8",
   "metadata": {},
   "source": [
    "# 5.2 Input"
   ]
  },
  {
   "cell_type": "code",
   "execution_count": null,
   "id": "1c6611b5",
   "metadata": {},
   "outputs": [],
   "source": [
    "nama = input('siapakah nama anda? ')\n",
    "kegiatan = input(\"Apakah kegiatan anda sekarang \")\n",
    "print('Semangat '+ kegiatan +' nya yaa, ' + nama + '!!!')"
   ]
  },
  {
   "cell_type": "code",
   "execution_count": null,
   "id": "0e5f0c71",
   "metadata": {},
   "outputs": [],
   "source": [
    "nama = input(\"siapakah nama anda? \")\n",
    "keadaan = input('bagaimana keadaan anda sekarang? ')\n",
    "kegiatan = input('apa yang akan anda lakukan besok? ')\n",
    "print('yuk bisa yuk '+ nama +' sekarang ' + keadaan + ' dulu, besok kita '+ kegiatan)"
   ]
  },
  {
   "cell_type": "code",
   "execution_count": null,
   "id": "588101d5",
   "metadata": {},
   "outputs": [],
   "source": [
    "nama = input('siapakah nama anda? ')\n",
    "kelakuan = input('apa yang akan anda lakukan? ')\n",
    "print('Tolong yaa '+ nama +' suud ' + kelakuan + ' 🙃')"
   ]
  },
  {
   "cell_type": "markdown",
   "id": "31045530",
   "metadata": {},
   "source": [
    "# 5.3 Tipe Data Pada Python"
   ]
  },
  {
   "cell_type": "code",
   "execution_count": null,
   "id": "a4089a85",
   "metadata": {},
   "outputs": [],
   "source": [
    "uang_di_dompet = input('Berapakah Jumlah uang di dompet kamu? ')\n",
    "uang_di_bank = input('Berapakah jumlah uang kamu di Bank? ')\n",
    "print('Total uang kamu adalah Rp ' + uang_di_dompet + uang_di_bank )"
   ]
  },
  {
   "cell_type": "code",
   "execution_count": null,
   "id": "611cf107",
   "metadata": {},
   "outputs": [],
   "source": [
    "uang_di_dompet = input('Berapakah jumlah uang di dompet kamu? ')\n",
    "uang_di_bank = input('Berapakah jumlah uang kamu di Bank? ')\n",
    "total_uang = int(uang_di_dompet) + int(uang_di_bank)\n",
    "print('Total uang anda adalah Rp '+ str(total_uang))"
   ]
  },
  {
   "cell_type": "code",
   "execution_count": null,
   "id": "067190f2",
   "metadata": {},
   "outputs": [],
   "source": [
    "type(uang_di_dompet)"
   ]
  },
  {
   "cell_type": "code",
   "execution_count": null,
   "id": "b832e8c1",
   "metadata": {},
   "outputs": [],
   "source": [
    "type(uang_di_bank)"
   ]
  },
  {
   "cell_type": "code",
   "execution_count": null,
   "id": "aa825f85",
   "metadata": {},
   "outputs": [],
   "source": [
    "type(total_uang)"
   ]
  },
  {
   "cell_type": "code",
   "execution_count": null,
   "id": "2f2069f2",
   "metadata": {},
   "outputs": [],
   "source": [
    "bilangan_satu = input('Masukan bilangan pertama: ')\n",
    "bilangan_kedua = input('Masukan bilangan kedua: ')\n",
    "jumlah = float(bilangan_satu) + float(bilangan_kedua)\n",
    "print('Jumlah kedua bilangan adalah '+ str(jumlah))"
   ]
  },
  {
   "cell_type": "code",
   "execution_count": null,
   "id": "10c9876f",
   "metadata": {},
   "outputs": [],
   "source": [
    "bilangan_satu = input('Masukan bilangan pertama: ')\n",
    "bilangan_kedua = input('Masukan bilangan kedua: ')\n",
    "jumlah = int(bilangan_satu) + float(bilangan_kedua)\n",
    "print('Jumlah kedua bilangan adalah ' + str(jumlah))"
   ]
  },
  {
   "cell_type": "code",
   "execution_count": null,
   "id": "8d257886",
   "metadata": {},
   "outputs": [],
   "source": [
    "bilangan_satu = input('Masukan bilangan pertama: ')\n",
    "bilangan_kedua = input('Masukan bilangan kedua: ')\n",
    "pengurangan = float(bilangan_satu) - int(bilangan_kedua)\n",
    "print('Hasil pengurangan kedua bilangan adalah ' + str(pengurangan))"
   ]
  },
  {
   "cell_type": "code",
   "execution_count": null,
   "id": "08c63aa9",
   "metadata": {},
   "outputs": [],
   "source": [
    "bilangan_satu = input('Masukan bilangan pertama: ')\n",
    "bilangan_kedua = input('Masukan bilangan kedua: ')\n",
    "pengurangan = int(bilangan_satu) - float(bilangan_kedua)\n",
    "print('Hasil pengurangan kedua bilangan adalah ' + str(pengurangan))"
   ]
  },
  {
   "cell_type": "markdown",
   "id": "ecaa243c",
   "metadata": {},
   "source": [
    "# 5.4 Formatted String"
   ]
  },
  {
   "cell_type": "code",
   "execution_count": null,
   "id": "88241396",
   "metadata": {},
   "outputs": [],
   "source": [
    "nama = \"Vladimir\"\n",
    "pekerjaan = 'guru'\n",
    "institusi = 'SD Pertiwi'\n",
    "print(nama + ' adalah seorang ' + pekerjaan + ' di ' + institusi +\".\")"
   ]
  },
  {
   "cell_type": "code",
   "execution_count": null,
   "id": "93fece80",
   "metadata": {},
   "outputs": [],
   "source": [
    "print(f'{nama} adalah seorang {pekerjaan} di {institusi}.')"
   ]
  },
  {
   "cell_type": "code",
   "execution_count": null,
   "id": "138ad326",
   "metadata": {},
   "outputs": [],
   "source": [
    "print(f'{nama} adalah seorang {pekerjaan} di {institusi}.')"
   ]
  },
  {
   "cell_type": "code",
   "execution_count": null,
   "id": "841cc211",
   "metadata": {},
   "outputs": [],
   "source": [
    "nama = \"Desi\"\n",
    "keadaan = \"bosan\"\n",
    "tempat = \"rumah\"\n",
    "print(nama + ' sangat ' + keadaan + ' berada di ' + tempat)"
   ]
  },
  {
   "cell_type": "code",
   "execution_count": null,
   "id": "f4d75b7e",
   "metadata": {},
   "outputs": [],
   "source": [
    "print(f'{nama} sangat {keadaan} berada di {tempat}')"
   ]
  },
  {
   "cell_type": "code",
   "execution_count": null,
   "id": "f67d6a37",
   "metadata": {},
   "outputs": [],
   "source": [
    "nama_satu = 'Anna'\n",
    "nama_dua = 'Natan'\n",
    "tempat = 'pasar malam'\n",
    "print(nama_satu + ' dan ' + nama_dua + ' akan pergi ke ' + tempat)"
   ]
  },
  {
   "cell_type": "code",
   "execution_count": null,
   "id": "f2306411",
   "metadata": {},
   "outputs": [],
   "source": [
    "print(f'{nama_satu} dan {nama_dua} akan pergi ke {tempat}')"
   ]
  },
  {
   "cell_type": "code",
   "execution_count": null,
   "id": "994924d8",
   "metadata": {},
   "outputs": [],
   "source": [
    "tempat = \"Laos \"\n",
    "keterangan = \" The Land Locked Country\" \n",
    "print(tempat + 'diberi julukan' + keterangan)"
   ]
  },
  {
   "cell_type": "code",
   "execution_count": null,
   "id": "3426a870",
   "metadata": {},
   "outputs": [],
   "source": [
    "print(f'{tempat}diberi julukan{keterangan}')"
   ]
  },
  {
   "cell_type": "markdown",
   "id": "5c0debb8",
   "metadata": {},
   "source": [
    "# 5.5 Strings Index "
   ]
  },
  {
   "cell_type": "code",
   "execution_count": null,
   "id": "598220aa",
   "metadata": {},
   "outputs": [],
   "source": [
    "kelas = 'ini kelas algoritma'"
   ]
  },
  {
   "cell_type": "code",
   "execution_count": null,
   "id": "bdb979b6",
   "metadata": {},
   "outputs": [],
   "source": [
    "print(kelas[0:3])"
   ]
  },
  {
   "cell_type": "code",
   "execution_count": null,
   "id": "125f328e",
   "metadata": {},
   "outputs": [],
   "source": [
    "print(kelas[0:-1])"
   ]
  },
  {
   "cell_type": "code",
   "execution_count": null,
   "id": "aec0e167",
   "metadata": {},
   "outputs": [],
   "source": [
    "print(kelas[5:-1])"
   ]
  },
  {
   "cell_type": "code",
   "execution_count": null,
   "id": "03e8c4bb",
   "metadata": {},
   "outputs": [],
   "source": [
    "print(kelas[2:-1:3])"
   ]
  },
  {
   "cell_type": "code",
   "execution_count": null,
   "id": "de102088",
   "metadata": {},
   "outputs": [],
   "source": [
    "print(kelas[:-3])"
   ]
  },
  {
   "cell_type": "code",
   "execution_count": null,
   "id": "d62b74cb",
   "metadata": {},
   "outputs": [],
   "source": [
    "print(kelas[1:])"
   ]
  },
  {
   "cell_type": "code",
   "execution_count": null,
   "id": "7d2b75c5",
   "metadata": {},
   "outputs": [],
   "source": [
    "print(kelas[:])"
   ]
  },
  {
   "cell_type": "code",
   "execution_count": null,
   "id": "a1394cd1",
   "metadata": {},
   "outputs": [],
   "source": [
    "print(kelas[:4])"
   ]
  },
  {
   "cell_type": "code",
   "execution_count": null,
   "id": "36960d4b",
   "metadata": {},
   "outputs": [],
   "source": [
    "kegiatan = 'fitri sedang makan siang di cafe santuy'"
   ]
  },
  {
   "cell_type": "code",
   "execution_count": null,
   "id": "4b54e3de",
   "metadata": {},
   "outputs": [],
   "source": [
    "print(kegiatan[3:4])"
   ]
  },
  {
   "cell_type": "code",
   "execution_count": null,
   "id": "7ced85ad",
   "metadata": {},
   "outputs": [],
   "source": [
    "print(kegiatan[:2])"
   ]
  },
  {
   "cell_type": "code",
   "execution_count": null,
   "id": "134e349f",
   "metadata": {},
   "outputs": [],
   "source": [
    "print(kegiatan[:])"
   ]
  },
  {
   "cell_type": "code",
   "execution_count": null,
   "id": "6502d2fe",
   "metadata": {},
   "outputs": [],
   "source": [
    "print(kegiatan[2:4:1])"
   ]
  },
  {
   "cell_type": "code",
   "execution_count": null,
   "id": "02122904",
   "metadata": {},
   "outputs": [],
   "source": [
    "print(kegiatan[3:-1])"
   ]
  },
  {
   "cell_type": "code",
   "execution_count": null,
   "id": "7ff110eb",
   "metadata": {},
   "outputs": [],
   "source": [
    "judul = 'Wisata masa lalu'"
   ]
  },
  {
   "cell_type": "code",
   "execution_count": null,
   "id": "44bc12ac",
   "metadata": {},
   "outputs": [],
   "source": [
    "print(judul[:1])"
   ]
  },
  {
   "cell_type": "code",
   "execution_count": null,
   "id": "9d0145bf",
   "metadata": {},
   "outputs": [],
   "source": [
    "print(judul[:])"
   ]
  },
  {
   "cell_type": "code",
   "execution_count": null,
   "id": "7d354d2e",
   "metadata": {},
   "outputs": [],
   "source": [
    "print(judul[1:2])"
   ]
  },
  {
   "cell_type": "code",
   "execution_count": null,
   "id": "eff7419c",
   "metadata": {},
   "outputs": [],
   "source": [
    "print(judul[0:3])"
   ]
  },
  {
   "cell_type": "code",
   "execution_count": null,
   "id": "8184b621",
   "metadata": {},
   "outputs": [],
   "source": [
    "print(judul[2:5])"
   ]
  },
  {
   "cell_type": "code",
   "execution_count": null,
   "id": "39761942",
   "metadata": {},
   "outputs": [],
   "source": [
    "print(judul[2:3:1])"
   ]
  },
  {
   "cell_type": "markdown",
   "id": "0fc5df93",
   "metadata": {},
   "source": [
    "# 5.6 Srings Methods"
   ]
  },
  {
   "cell_type": "code",
   "execution_count": null,
   "id": "9c5202f3",
   "metadata": {},
   "outputs": [],
   "source": [
    "judul = 'Bali Surga Dunia'"
   ]
  },
  {
   "cell_type": "code",
   "execution_count": null,
   "id": "6f930309",
   "metadata": {},
   "outputs": [],
   "source": [
    "print(len(judul))"
   ]
  },
  {
   "cell_type": "code",
   "execution_count": null,
   "id": "32a07959",
   "metadata": {},
   "outputs": [],
   "source": [
    "judul.upper()"
   ]
  },
  {
   "cell_type": "code",
   "execution_count": null,
   "id": "64a6663b",
   "metadata": {},
   "outputs": [],
   "source": [
    "judul.lower()"
   ]
  },
  {
   "cell_type": "code",
   "execution_count": null,
   "id": "bc5aa6aa",
   "metadata": {},
   "outputs": [],
   "source": [
    "judul.find('Surga')"
   ]
  },
  {
   "cell_type": "code",
   "execution_count": null,
   "id": "e938bdb2",
   "metadata": {},
   "outputs": [],
   "source": [
    "judul.find('bali')"
   ]
  },
  {
   "cell_type": "code",
   "execution_count": null,
   "id": "12665c1e",
   "metadata": {},
   "outputs": [],
   "source": [
    "judul.replace('Bali', 'Indonesia')"
   ]
  },
  {
   "cell_type": "code",
   "execution_count": null,
   "id": "949cd88b",
   "metadata": {},
   "outputs": [],
   "source": [
    "judul.replace('bali', 'Indonesia')"
   ]
  },
  {
   "cell_type": "code",
   "execution_count": null,
   "id": "1c50d5b2",
   "metadata": {},
   "outputs": [],
   "source": [
    "print('bali' in judul)"
   ]
  },
  {
   "cell_type": "code",
   "execution_count": null,
   "id": "40d23147",
   "metadata": {},
   "outputs": [],
   "source": [
    "print('Bali' in judul)"
   ]
  },
  {
   "cell_type": "code",
   "execution_count": null,
   "id": "3796f1ac",
   "metadata": {},
   "outputs": [],
   "source": [
    "judul = \" Bersusah-susah dahulu bersenang-senang kemudian\""
   ]
  },
  {
   "cell_type": "code",
   "execution_count": null,
   "id": "904be30c",
   "metadata": {},
   "outputs": [],
   "source": [
    "print(len(judul))"
   ]
  },
  {
   "cell_type": "code",
   "execution_count": null,
   "id": "76465701",
   "metadata": {},
   "outputs": [],
   "source": [
    "judul.upper()"
   ]
  },
  {
   "cell_type": "code",
   "execution_count": null,
   "id": "61b5840e",
   "metadata": {},
   "outputs": [],
   "source": [
    "judul.lower()"
   ]
  },
  {
   "cell_type": "code",
   "execution_count": null,
   "id": "d0be05bb",
   "metadata": {},
   "outputs": [],
   "source": [
    "judul.find('-susah')"
   ]
  },
  {
   "cell_type": "code",
   "execution_count": null,
   "id": "1387947d",
   "metadata": {},
   "outputs": [],
   "source": [
    "judul.find('bersusah')"
   ]
  },
  {
   "cell_type": "code",
   "execution_count": null,
   "id": "746a45be",
   "metadata": {},
   "outputs": [],
   "source": [
    "judul.replace(' -senang', ' kemudian ')"
   ]
  },
  {
   "cell_type": "code",
   "execution_count": null,
   "id": "9e0b9114",
   "metadata": {},
   "outputs": [],
   "source": [
    "judul.replace('kemudian', 'Susah')"
   ]
  },
  {
   "cell_type": "code",
   "execution_count": null,
   "id": "4ee52aa1",
   "metadata": {},
   "outputs": [],
   "source": [
    "print('Senang' in judul)"
   ]
  },
  {
   "cell_type": "code",
   "execution_count": null,
   "id": "ef00e3f3",
   "metadata": {},
   "outputs": [],
   "source": [
    "print('senang' in judul)"
   ]
  },
  {
   "cell_type": "markdown",
   "id": "dd00fe48",
   "metadata": {},
   "source": [
    "# 5.7 Operasi Matematika di Python"
   ]
  },
  {
   "cell_type": "code",
   "execution_count": null,
   "id": "4a6201b6",
   "metadata": {},
   "outputs": [],
   "source": [
    "print(2+3)"
   ]
  },
  {
   "cell_type": "code",
   "execution_count": null,
   "id": "778dac7f",
   "metadata": {},
   "outputs": [],
   "source": [
    "print(2-3)"
   ]
  },
  {
   "cell_type": "code",
   "execution_count": null,
   "id": "b9b2bfab",
   "metadata": {},
   "outputs": [],
   "source": [
    "print(2*3)"
   ]
  },
  {
   "cell_type": "code",
   "execution_count": null,
   "id": "521e9e9e",
   "metadata": {},
   "outputs": [],
   "source": [
    "print(7/3)"
   ]
  },
  {
   "cell_type": "code",
   "execution_count": null,
   "id": "a07c15b1",
   "metadata": {},
   "outputs": [],
   "source": [
    "print(7//3)"
   ]
  },
  {
   "cell_type": "code",
   "execution_count": null,
   "id": "22ae191c",
   "metadata": {},
   "outputs": [],
   "source": [
    "print(7%3)"
   ]
  },
  {
   "cell_type": "code",
   "execution_count": null,
   "id": "1fe2a566",
   "metadata": {},
   "outputs": [],
   "source": [
    "print(2**3)"
   ]
  },
  {
   "cell_type": "code",
   "execution_count": null,
   "id": "db593acf",
   "metadata": {},
   "outputs": [],
   "source": [
    "x= 3\n",
    "x+= 1 \n",
    "print(x)"
   ]
  },
  {
   "cell_type": "code",
   "execution_count": null,
   "id": "38e1505e",
   "metadata": {},
   "outputs": [],
   "source": [
    "x-=2\n",
    "print(x)"
   ]
  },
  {
   "cell_type": "code",
   "execution_count": null,
   "id": "8c6a88a8",
   "metadata": {},
   "outputs": [],
   "source": [
    "x*=3\n",
    "print(x)"
   ]
  },
  {
   "cell_type": "code",
   "execution_count": null,
   "id": "4ba11277",
   "metadata": {},
   "outputs": [],
   "source": [
    "x= 12\n",
    "x**= 2\n",
    "print(x)"
   ]
  },
  {
   "cell_type": "code",
   "execution_count": null,
   "id": "6ea99ddb",
   "metadata": {},
   "outputs": [],
   "source": [
    "x= 364\n",
    "x/= 12\n",
    "print(x)"
   ]
  },
  {
   "cell_type": "code",
   "execution_count": null,
   "id": "fb83e037",
   "metadata": {},
   "outputs": [],
   "source": [
    "x= 3094\n",
    "x//= 3\n",
    "print(x)"
   ]
  },
  {
   "cell_type": "code",
   "execution_count": null,
   "id": "a7d8f3f9",
   "metadata": {},
   "outputs": [],
   "source": [
    "print(3456//24)"
   ]
  },
  {
   "cell_type": "markdown",
   "id": "bfc1ee87",
   "metadata": {},
   "source": [
    "# 5.8 Operator Perbandingan di Python"
   ]
  },
  {
   "cell_type": "code",
   "execution_count": null,
   "id": "f3d6103d",
   "metadata": {},
   "outputs": [],
   "source": [
    "x = 3>2\n",
    "print(x)"
   ]
  },
  {
   "cell_type": "code",
   "execution_count": null,
   "id": "3a11fc4d",
   "metadata": {},
   "outputs": [],
   "source": [
    "x = 2>3\n",
    "print(x)"
   ]
  },
  {
   "cell_type": "code",
   "execution_count": null,
   "id": "540eb279",
   "metadata": {},
   "outputs": [],
   "source": [
    "x = 2<3\n",
    "print(x)"
   ]
  },
  {
   "cell_type": "code",
   "execution_count": null,
   "id": "af7dce49",
   "metadata": {},
   "outputs": [],
   "source": [
    "x = 3 >= 2\n",
    "print(x)"
   ]
  },
  {
   "cell_type": "code",
   "execution_count": null,
   "id": "6e0b7133",
   "metadata": {},
   "outputs": [],
   "source": [
    "x = 2 <= 3\n",
    "print(x)"
   ]
  },
  {
   "cell_type": "code",
   "execution_count": null,
   "id": "5c3572c3",
   "metadata": {},
   "outputs": [],
   "source": [
    "x = 3 == 3\n",
    "print(x)"
   ]
  },
  {
   "cell_type": "code",
   "execution_count": null,
   "id": "8f4628d5",
   "metadata": {},
   "outputs": [],
   "source": [
    "x = 3 != 4\n",
    "print(x"
   ]
  },
  {
   "cell_type": "code",
   "execution_count": null,
   "id": "60b43674",
   "metadata": {},
   "outputs": [],
   "source": [
    "x = 3<2\n",
    "print(x)"
   ]
  },
  {
   "cell_type": "code",
   "execution_count": null,
   "id": "09bfed66",
   "metadata": {},
   "outputs": [],
   "source": [
    "x = 2 >= 3\n",
    "print(x)"
   ]
  },
  {
   "cell_type": "code",
   "execution_count": null,
   "id": "82fd5fda",
   "metadata": {},
   "outputs": [],
   "source": [
    "x = 3 <= 2\n",
    "print(x)"
   ]
  },
  {
   "cell_type": "code",
   "execution_count": null,
   "id": "93ccd2da",
   "metadata": {},
   "outputs": [],
   "source": [
    "x = 3 == 4\n",
    "print(x)"
   ]
  },
  {
   "cell_type": "code",
   "execution_count": null,
   "id": "d151251b",
   "metadata": {},
   "outputs": [],
   "source": [
    "x = 3 != 3\n",
    "print(x)"
   ]
  },
  {
   "cell_type": "code",
   "execution_count": null,
   "id": "321aecab",
   "metadata": {},
   "outputs": [],
   "source": [
    "x = 14 < 3\n",
    "print(x)"
   ]
  },
  {
   "cell_type": "code",
   "execution_count": null,
   "id": "478fca38",
   "metadata": {},
   "outputs": [],
   "source": [
    "x = 1 <= 4\n",
    "print(x)"
   ]
  },
  {
   "cell_type": "code",
   "execution_count": null,
   "id": "f4453d43",
   "metadata": {},
   "outputs": [],
   "source": [
    "x = 4 < -1\n",
    "print(x)"
   ]
  },
  {
   "cell_type": "code",
   "execution_count": null,
   "id": "68efdd37",
   "metadata": {},
   "outputs": [],
   "source": [
    "x = -12 < -2\n",
    "print(x)"
   ]
  },
  {
   "cell_type": "code",
   "execution_count": null,
   "id": "46026883",
   "metadata": {},
   "outputs": [],
   "source": [
    "x = -12 == 12\n",
    "print(x)"
   ]
  },
  {
   "cell_type": "code",
   "execution_count": null,
   "id": "75d8f587",
   "metadata": {},
   "outputs": [],
   "source": [
    "x = -4 != -4\n",
    "print(x)"
   ]
  },
  {
   "cell_type": "code",
   "execution_count": null,
   "id": "6e098faf",
   "metadata": {},
   "outputs": [],
   "source": [
    "x = -9 != 9\n",
    "print(x)"
   ]
  },
  {
   "cell_type": "code",
   "execution_count": null,
   "id": "f4593f7b",
   "metadata": {},
   "outputs": [],
   "source": [
    "x = 2*3\n",
    "y = 1*2\n",
    "print(x > y)"
   ]
  },
  {
   "cell_type": "code",
   "execution_count": null,
   "id": "bce97996",
   "metadata": {},
   "outputs": [],
   "source": [
    "x = 9*2\n",
    "y = 10/5\n",
    "z = 2**3\n",
    "print(x > y < z)"
   ]
  },
  {
   "cell_type": "code",
   "execution_count": null,
   "id": "4684614e",
   "metadata": {},
   "outputs": [],
   "source": [
    "x = 8-2\n",
    "y = 2*4\n",
    "print(x <= y)"
   ]
  },
  {
   "cell_type": "code",
   "execution_count": null,
   "id": "ca9096d0",
   "metadata": {},
   "outputs": [],
   "source": [
    "a = 2+4\n",
    "b = 9-3\n",
    "print(a >= b)"
   ]
  },
  {
   "cell_type": "markdown",
   "id": "2b7625eb",
   "metadata": {},
   "source": [
    "# 5.9 Operator Logika di Python"
   ]
  },
  {
   "cell_type": "code",
   "execution_count": null,
   "id": "5b5d9e8c",
   "metadata": {},
   "outputs": [],
   "source": [
    "buah_manggis = 10\n",
    "buah_mangga = 15\n",
    "print(buah_manggis > 8 and buah_mangga < 20)"
   ]
  },
  {
   "cell_type": "code",
   "execution_count": null,
   "id": "be8b87ac",
   "metadata": {},
   "outputs": [],
   "source": [
    "print(buah_manggis < 8 or buah_mangga < 20)"
   ]
  },
  {
   "cell_type": "code",
   "execution_count": null,
   "id": "2ff024e2",
   "metadata": {},
   "outputs": [],
   "source": [
    "print(buah_manggis < 8 or buah_mangga > 20)"
   ]
  },
  {
   "cell_type": "code",
   "execution_count": null,
   "id": "d4a581d4",
   "metadata": {},
   "outputs": [],
   "source": [
    "print(not (buah_manggis <8 or buah_mangga > 20))"
   ]
  },
  {
   "cell_type": "code",
   "execution_count": null,
   "id": "4a9a621f",
   "metadata": {},
   "outputs": [],
   "source": [
    "buku_tulis = 5\n",
    "pulpen = 12\n",
    "print(buku_tulis > 3 and pulpen <15)"
   ]
  },
  {
   "cell_type": "code",
   "execution_count": null,
   "id": "16c8e669",
   "metadata": {},
   "outputs": [],
   "source": [
    "print(buku_tulis < 2 or pulpen <15)"
   ]
  },
  {
   "cell_type": "code",
   "execution_count": null,
   "id": "3dbeeab0",
   "metadata": {},
   "outputs": [],
   "source": [
    "print(buku_tulis < 2 or pulpen > 15)"
   ]
  },
  {
   "cell_type": "code",
   "execution_count": null,
   "id": "7ac703a7",
   "metadata": {},
   "outputs": [],
   "source": [
    "print(not (buku_tulis < 1 or pulpen > 18))"
   ]
  },
  {
   "cell_type": "code",
   "execution_count": null,
   "id": "ce2ed9a9",
   "metadata": {},
   "outputs": [],
   "source": [
    "uang_saku = 100000\n",
    "pengeluaran = 57000\n",
    "print(uang_saku > 20000 and pengeluaran < 96000)"
   ]
  },
  {
   "cell_type": "code",
   "execution_count": null,
   "id": "10ddca2b",
   "metadata": {},
   "outputs": [],
   "source": [
    "print(uang_saku >30000 or pengeluaran > 200000)"
   ]
  },
  {
   "cell_type": "code",
   "execution_count": null,
   "id": "291d2f6c",
   "metadata": {},
   "outputs": [],
   "source": [
    "print(uang_saku >30000 and pengeluaran > 200000)"
   ]
  },
  {
   "cell_type": "markdown",
   "id": "bfcc8037",
   "metadata": {},
   "source": [
    "# 5.10 Operator if di Python"
   ]
  },
  {
   "cell_type": "code",
   "execution_count": null,
   "id": "7772bc69",
   "metadata": {},
   "outputs": [],
   "source": [
    "nilai = float(input(\"Nilai anda adalah \"))\n",
    "if nilai >= 85:\n",
    "    print(\"Anda mendapatkan nilai A\")\n",
    "    print(\"Bagus bangett, congrats!!\")\n",
    "if nilai < 85 and nilai >= 75:\n",
    "    print(\"Anda mendapatkan nilai B\")\n",
    "    print(\"Tingkatkan lagi prestasimu!!\")\n",
    "if nilai < 65 and nilai < 75:\n",
    "    print(\"Anda mendapatkan nilai C\")\n",
    "    print(\"Lebih baik lagi yaa\")\n",
    "if nilai >= 55 and nilai < 65:\n",
    "    print(\"Anda mendapatkan nilai D\")\n",
    "    print(\"Ulang lagi tahun depan ya\")\n",
    "if nilai < 55:\n",
    "    print(\"Anda mendapat nilai E\")\n",
    "    print(\"Sampai jumpa tahun depan bestii\")"
   ]
  },
  {
   "cell_type": "code",
   "execution_count": null,
   "id": "51cb7f1a",
   "metadata": {},
   "outputs": [],
   "source": [
    "nilai = float(input(\"Nilai anda adalah \"))\n",
    "if nilai >= 87:\n",
    "    print(\"Anda mendapatkan nilai A\")\n",
    "    print(\"Keren bangett, selamat yaa!!\")"
   ]
  },
  {
   "cell_type": "code",
   "execution_count": null,
   "id": "c57c7336",
   "metadata": {},
   "outputs": [],
   "source": [
    "tinggi = float(input(\"Berapakah tinggi kamu? \"))\n",
    "cm_atau_inch = input(\"Tingginya dalam cm atau inch? \")\n",
    "\n",
    "if cm_atau_inch.upper() == ' CM' :\n",
    "    tinggi = tinggi*0.393701\n",
    "    print(\"Tinggi kamu adalah \" + str(tinggi) + ' inch')\n",
    "elif cm_atau_inch.upper() == 'INCH' :\n",
    "    tinggi = tinggi/0.393701\n",
    "    print(f\"Tinggi kamu adalah {tinggi} cm\")"
   ]
  },
  {
   "cell_type": "code",
   "execution_count": null,
   "id": "963eb4e5",
   "metadata": {},
   "outputs": [],
   "source": [
    "print(f\"Tinggi kamu adalah {tinggi} cm\")"
   ]
  },
  {
   "cell_type": "markdown",
   "id": "bc321432",
   "metadata": {},
   "source": [
    "# 5.11 While loop"
   ]
  },
  {
   "cell_type": "code",
   "execution_count": null,
   "id": "d0b76809",
   "metadata": {},
   "outputs": [],
   "source": [
    "a = 0\n",
    "while a < 5:\n",
    "    print(\"Angka \" + str(a)+\" masih dibawah 5\")\n",
    "    a += 1"
   ]
  },
  {
   "cell_type": "code",
   "execution_count": null,
   "id": "2fd5eee9",
   "metadata": {},
   "outputs": [],
   "source": [
    "a = 0\n",
    "while a < 5:\n",
    "    print(a * '*')\n",
    "    a += 1"
   ]
  },
  {
   "cell_type": "code",
   "execution_count": null,
   "id": "b80617d0",
   "metadata": {},
   "outputs": [],
   "source": [
    "a = 0\n",
    "while a < 10:\n",
    "    print(a * \" * \")\n",
    "    a += 2"
   ]
  },
  {
   "cell_type": "code",
   "execution_count": null,
   "id": "4c8affff",
   "metadata": {},
   "outputs": [],
   "source": [
    "a = 1\n",
    "while a <= 4:\n",
    "    print(a*4)\n",
    "    a = a + 1"
   ]
  },
  {
   "cell_type": "code",
   "execution_count": null,
   "id": "2c01be4b",
   "metadata": {},
   "outputs": [],
   "source": [
    "a = 1\n",
    "while a < 7:\n",
    "    print(a * \"*\")\n",
    "    a += 1"
   ]
  },
  {
   "cell_type": "markdown",
   "id": "3f622cc2",
   "metadata": {},
   "source": [
    "# 5.12 List di Python"
   ]
  },
  {
   "cell_type": "code",
   "execution_count": null,
   "id": "151df47c",
   "metadata": {},
   "outputs": [],
   "source": []
  },
  {
   "cell_type": "code",
   "execution_count": null,
   "id": "14b7faad",
   "metadata": {},
   "outputs": [],
   "source": []
  },
  {
   "cell_type": "code",
   "execution_count": null,
   "id": "e93610ed",
   "metadata": {},
   "outputs": [],
   "source": []
  },
  {
   "cell_type": "code",
   "execution_count": null,
   "id": "b0020525",
   "metadata": {},
   "outputs": [],
   "source": []
  },
  {
   "cell_type": "code",
   "execution_count": null,
   "id": "e2b0ba5a",
   "metadata": {},
   "outputs": [],
   "source": []
  },
  {
   "cell_type": "code",
   "execution_count": null,
   "id": "48405d6e",
   "metadata": {},
   "outputs": [],
   "source": []
  },
  {
   "cell_type": "code",
   "execution_count": null,
   "id": "101308ad",
   "metadata": {},
   "outputs": [],
   "source": []
  }
 ],
 "metadata": {
  "kernelspec": {
   "display_name": "Python 3 (ipykernel)",
   "language": "python",
   "name": "python3"
  },
  "language_info": {
   "codemirror_mode": {
    "name": "ipython",
    "version": 3
   },
   "file_extension": ".py",
   "mimetype": "text/x-python",
   "name": "python",
   "nbconvert_exporter": "python",
   "pygments_lexer": "ipython3",
   "version": "3.9.7"
  }
 },
 "nbformat": 4,
 "nbformat_minor": 5
}
