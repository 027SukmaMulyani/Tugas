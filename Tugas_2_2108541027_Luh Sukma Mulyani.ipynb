{
 "cells": [
  {
   "cell_type": "markdown",
   "id": "ba14939c",
   "metadata": {},
   "source": [
    "# 5.12 List di Python"
   ]
  },
  {
   "cell_type": "code",
   "execution_count": 1,
   "id": "e05f167e",
   "metadata": {},
   "outputs": [
    {
     "name": "stdout",
     "output_type": "stream",
     "text": [
      "['apel', 'jeruk', 'semangka', 'nanas']\n"
     ]
    }
   ],
   "source": [
    "buah = ['apel', 'jeruk', 'semangka', 'nanas']\n",
    "print(buah)"
   ]
  },
  {
   "cell_type": "code",
   "execution_count": 2,
   "id": "2391bf3a",
   "metadata": {},
   "outputs": [
    {
     "name": "stdout",
     "output_type": "stream",
     "text": [
      "apel\n"
     ]
    }
   ],
   "source": [
    "print(buah[0])"
   ]
  },
  {
   "cell_type": "code",
   "execution_count": 4,
   "id": "56c5009f",
   "metadata": {},
   "outputs": [
    {
     "name": "stdout",
     "output_type": "stream",
     "text": [
      "nanas\n"
     ]
    }
   ],
   "source": [
    "print(buah[3])"
   ]
  },
  {
   "cell_type": "code",
   "execution_count": 7,
   "id": "864307d3",
   "metadata": {},
   "outputs": [
    {
     "name": "stdout",
     "output_type": "stream",
     "text": [
      "nanas\n"
     ]
    }
   ],
   "source": [
    "print(buah[-1])"
   ]
  },
  {
   "cell_type": "code",
   "execution_count": 8,
   "id": "3997b55f",
   "metadata": {},
   "outputs": [
    {
     "name": "stdout",
     "output_type": "stream",
     "text": [
      "jeruk\n"
     ]
    }
   ],
   "source": [
    "print(buah[-3])"
   ]
  },
  {
   "cell_type": "code",
   "execution_count": 9,
   "id": "edeeff28",
   "metadata": {},
   "outputs": [
    {
     "name": "stdout",
     "output_type": "stream",
     "text": [
      "['apel', 'anggur', 'semangka', 'nanas']\n"
     ]
    }
   ],
   "source": [
    "buah[1] = 'anggur'\n",
    "print(buah)"
   ]
  },
  {
   "cell_type": "code",
   "execution_count": 10,
   "id": "87c98b30",
   "metadata": {},
   "outputs": [
    {
     "name": "stdout",
     "output_type": "stream",
     "text": [
      "[]\n"
     ]
    }
   ],
   "source": [
    "print(buah[2:1])"
   ]
  },
  {
   "cell_type": "code",
   "execution_count": 11,
   "id": "db178ed7",
   "metadata": {},
   "outputs": [
    {
     "name": "stdout",
     "output_type": "stream",
     "text": [
      "['anggur', 'semangka']\n"
     ]
    }
   ],
   "source": [
    "print(buah[1:3])"
   ]
  },
  {
   "cell_type": "code",
   "execution_count": 12,
   "id": "3e091757",
   "metadata": {},
   "outputs": [
    {
     "name": "stdout",
     "output_type": "stream",
     "text": [
      "['apel', 'anggur', 'semangka', 'nanas']\n"
     ]
    }
   ],
   "source": [
    "#tidak merubah list\n",
    "print(buah)"
   ]
  },
  {
   "cell_type": "code",
   "execution_count": 13,
   "id": "32984524",
   "metadata": {},
   "outputs": [
    {
     "name": "stdout",
     "output_type": "stream",
     "text": [
      "('buku', 'tas', 'pulpen', 'binder', 'laptop')\n"
     ]
    }
   ],
   "source": [
    "benda = 'buku', 'tas', 'pulpen', 'binder', 'laptop'\n",
    "print(benda)"
   ]
  },
  {
   "cell_type": "code",
   "execution_count": 14,
   "id": "f505ac24",
   "metadata": {},
   "outputs": [
    {
     "name": "stdout",
     "output_type": "stream",
     "text": [
      "binder\n"
     ]
    }
   ],
   "source": [
    "print(benda[3])"
   ]
  },
  {
   "cell_type": "code",
   "execution_count": 15,
   "id": "b2fe1871",
   "metadata": {},
   "outputs": [
    {
     "name": "stdout",
     "output_type": "stream",
     "text": [
      "tas\n"
     ]
    }
   ],
   "source": [
    "print(benda[-4])"
   ]
  },
  {
   "cell_type": "code",
   "execution_count": 19,
   "id": "91ee9e05",
   "metadata": {},
   "outputs": [
    {
     "name": "stdout",
     "output_type": "stream",
     "text": [
      "('tas', 'pulpen')\n"
     ]
    }
   ],
   "source": [
    "print(benda[1:3])"
   ]
  },
  {
   "cell_type": "code",
   "execution_count": 27,
   "id": "1d48e480",
   "metadata": {},
   "outputs": [
    {
     "name": "stdout",
     "output_type": "stream",
     "text": [
      "('buku', 'tas', 'pulpen', 'binder', 'laptop')\n"
     ]
    }
   ],
   "source": [
    "#tidak merubah list\n",
    "print(benda)"
   ]
  },
  {
   "cell_type": "markdown",
   "id": "8b7a1c35",
   "metadata": {},
   "source": [
    "# 5.13 Metoda List"
   ]
  },
  {
   "cell_type": "code",
   "execution_count": 28,
   "id": "e4a84d96",
   "metadata": {},
   "outputs": [
    {
     "name": "stdout",
     "output_type": "stream",
     "text": [
      "['Luh', 'Sukma', 'Mulyani', 'Anggun']\n"
     ]
    }
   ],
   "source": [
    "nama = ['Luh', 'Sukma', 'Mulyani']\n",
    "nama.append('Anggun')\n",
    "print(nama)"
   ]
  },
  {
   "cell_type": "code",
   "execution_count": 29,
   "id": "6e2c460c",
   "metadata": {},
   "outputs": [
    {
     "name": "stdout",
     "output_type": "stream",
     "text": [
      "['Luh', 'Ratna', 'Sukma', 'Mulyani', 'Anggun']\n"
     ]
    }
   ],
   "source": [
    "nama.insert(1, 'Ratna')\n",
    "print(nama)"
   ]
  },
  {
   "cell_type": "code",
   "execution_count": 30,
   "id": "eb8e1517",
   "metadata": {},
   "outputs": [
    {
     "name": "stdout",
     "output_type": "stream",
     "text": [
      "['Luh', 'Ratna', 'Mulyani', 'Anggun']\n"
     ]
    }
   ],
   "source": [
    "nama.remove('Sukma')\n",
    "print(nama)"
   ]
  },
  {
   "cell_type": "code",
   "execution_count": 31,
   "id": "58e4262e",
   "metadata": {},
   "outputs": [
    {
     "name": "stdout",
     "output_type": "stream",
     "text": [
      "True\n"
     ]
    }
   ],
   "source": [
    "print('Luh' in nama)"
   ]
  },
  {
   "cell_type": "code",
   "execution_count": 32,
   "id": "a5d57075",
   "metadata": {},
   "outputs": [
    {
     "name": "stdout",
     "output_type": "stream",
     "text": [
      "False\n"
     ]
    }
   ],
   "source": [
    "print('mulyani' in nama)"
   ]
  },
  {
   "cell_type": "code",
   "execution_count": 33,
   "id": "3085ae84",
   "metadata": {},
   "outputs": [
    {
     "name": "stdout",
     "output_type": "stream",
     "text": [
      "4\n"
     ]
    }
   ],
   "source": [
    "print(len(nama))"
   ]
  },
  {
   "cell_type": "markdown",
   "id": "6ba92ae7",
   "metadata": {},
   "source": [
    "# 5.14 For Loop"
   ]
  },
  {
   "cell_type": "code",
   "execution_count": 34,
   "id": "a593c92d",
   "metadata": {},
   "outputs": [
    {
     "name": "stdout",
     "output_type": "stream",
     "text": [
      "alpukat\n",
      "melon\n",
      "sirsak\n",
      "blubery\n",
      "nanas\n"
     ]
    }
   ],
   "source": [
    "buah = ['alpukat', 'melon', 'sirsak', 'blubery', 'nanas']\n",
    "for jenis in buah:\n",
    "    print(jenis)"
   ]
  },
  {
   "cell_type": "code",
   "execution_count": 35,
   "id": "7b38b3e6",
   "metadata": {},
   "outputs": [
    {
     "name": "stdout",
     "output_type": "stream",
     "text": [
      "alpukat\n",
      "melon\n",
      "sirsak\n",
      "blubery\n",
      "nanas\n"
     ]
    }
   ],
   "source": [
    "i=0\n",
    "while i < len(buah):\n",
    "    print(buah[i])\n",
    "    i+=1"
   ]
  },
  {
   "cell_type": "code",
   "execution_count": 42,
   "id": "8bcac6f1",
   "metadata": {},
   "outputs": [
    {
     "name": "stdout",
     "output_type": "stream",
     "text": [
      "melon\n",
      "blubery\n"
     ]
    }
   ],
   "source": [
    "i=1\n",
    "while i < len(buah):\n",
    "    print(buah[i])\n",
    "    i+=2"
   ]
  },
  {
   "cell_type": "code",
   "execution_count": 44,
   "id": "38fca5ba",
   "metadata": {},
   "outputs": [
    {
     "name": "stdout",
     "output_type": "stream",
     "text": [
      "pensil\n",
      "spidol\n",
      "penghapus\n",
      "pulpen\n"
     ]
    }
   ],
   "source": [
    "alat_tulis = ['pensil', 'spidol', 'penghapus', 'pulpen']\n",
    "for jenis in alat_tulis:\n",
    "    print(jenis)"
   ]
  },
  {
   "cell_type": "code",
   "execution_count": 45,
   "id": "a7617287",
   "metadata": {},
   "outputs": [
    {
     "name": "stdout",
     "output_type": "stream",
     "text": [
      "penghapus\n"
     ]
    }
   ],
   "source": [
    "a = 2\n",
    "while a < len(alat_tulis):\n",
    "    print(alat_tulis[a])\n",
    "    a+=3"
   ]
  },
  {
   "cell_type": "markdown",
   "id": "a3bcc49e",
   "metadata": {},
   "source": [
    "# 5.15 Fungsi range"
   ]
  },
  {
   "cell_type": "code",
   "execution_count": 46,
   "id": "1d3cec2e",
   "metadata": {},
   "outputs": [
    {
     "name": "stdout",
     "output_type": "stream",
     "text": [
      "range(0, 6)\n"
     ]
    }
   ],
   "source": [
    "angka = range(6)\n",
    "print(angka)"
   ]
  },
  {
   "cell_type": "code",
   "execution_count": 47,
   "id": "875a621d",
   "metadata": {},
   "outputs": [
    {
     "name": "stdout",
     "output_type": "stream",
     "text": [
      "0\n",
      "1\n",
      "2\n",
      "3\n",
      "4\n",
      "5\n"
     ]
    }
   ],
   "source": [
    "for isi in angka :\n",
    "    print(isi)"
   ]
  },
  {
   "cell_type": "code",
   "execution_count": 48,
   "id": "c37e449e",
   "metadata": {},
   "outputs": [
    {
     "name": "stdout",
     "output_type": "stream",
     "text": [
      "5\n",
      "6\n",
      "7\n",
      "8\n",
      "9\n"
     ]
    }
   ],
   "source": [
    "for isi in range(5,10):\n",
    "    print(isi)"
   ]
  },
  {
   "cell_type": "code",
   "execution_count": 49,
   "id": "1f22fdd1",
   "metadata": {},
   "outputs": [
    {
     "name": "stdout",
     "output_type": "stream",
     "text": [
      "0\n",
      "2\n",
      "4\n",
      "6\n",
      "8\n"
     ]
    }
   ],
   "source": [
    "for isi in range(0,10,2) :\n",
    "    print(isi)"
   ]
  },
  {
   "cell_type": "code",
   "execution_count": 52,
   "id": "c2ecacbe",
   "metadata": {},
   "outputs": [
    {
     "name": "stdout",
     "output_type": "stream",
     "text": [
      "0\n",
      "1\n"
     ]
    }
   ],
   "source": [
    "for isi in range(2) :\n",
    "    print(isi)"
   ]
  },
  {
   "cell_type": "code",
   "execution_count": 51,
   "id": "5d7c0bde",
   "metadata": {},
   "outputs": [
    {
     "name": "stdout",
     "output_type": "stream",
     "text": [
      "10\n",
      "11\n",
      "12\n",
      "13\n",
      "14\n",
      "15\n",
      "16\n",
      "17\n",
      "18\n",
      "19\n"
     ]
    }
   ],
   "source": [
    "for isi in range(10, 20) :\n",
    "    print(isi)"
   ]
  },
  {
   "cell_type": "markdown",
   "id": "a1a47391",
   "metadata": {},
   "source": [
    "# Latihan 5.15 \n",
    "no 1"
   ]
  },
  {
   "cell_type": "code",
   "execution_count": 54,
   "id": "97aa6eab",
   "metadata": {},
   "outputs": [
    {
     "name": "stdout",
     "output_type": "stream",
     "text": [
      "5\n"
     ]
    }
   ],
   "source": [
    "data = [1,2,3,4,5,4,3,2,1]\n",
    "terbesar = data[0]\n",
    "for a in range(len(data)):\n",
    "    if data[a] > terbesar:\n",
    "        terbesar = data[a]\n",
    "print(terbesar)"
   ]
  },
  {
   "cell_type": "code",
   "execution_count": 55,
   "id": "d6bc87bc",
   "metadata": {},
   "outputs": [
    {
     "name": "stdout",
     "output_type": "stream",
     "text": [
      "5\n"
     ]
    }
   ],
   "source": [
    "data = [1,2,3,4,5,4,3,2,1]\n",
    "terbesar = data[0]\n",
    "for angka in data:\n",
    "    if angka > terbesar:\n",
    "        terbesar = angka\n",
    "print(terbesar)"
   ]
  },
  {
   "cell_type": "code",
   "execution_count": 56,
   "id": "429ed14b",
   "metadata": {},
   "outputs": [
    {
     "name": "stdout",
     "output_type": "stream",
     "text": [
      "10\n"
     ]
    }
   ],
   "source": [
    "data = [2,4,6,8,10,2,4,6,8]\n",
    "terbesar = data[2]\n",
    "for angka in data:\n",
    "    if angka > terbesar:\n",
    "        terbesar = angka\n",
    "print(terbesar)"
   ]
  },
  {
   "cell_type": "code",
   "execution_count": 57,
   "id": "b755df51",
   "metadata": {},
   "outputs": [
    {
     "name": "stdout",
     "output_type": "stream",
     "text": [
      "10\n"
     ]
    }
   ],
   "source": [
    "data = [2,4,6,8,10,2,4,6,8]\n",
    "terbesar = data[2]\n",
    "for x in range(len(data)):\n",
    "    if data[x] > terbesar:\n",
    "        terbesar = data[x]\n",
    "print(terbesar)"
   ]
  },
  {
   "cell_type": "markdown",
   "id": "2af3e5ca",
   "metadata": {},
   "source": [
    "no 2"
   ]
  },
  {
   "cell_type": "code",
   "execution_count": 59,
   "id": "4fbe31e7",
   "metadata": {},
   "outputs": [
    {
     "name": "stdout",
     "output_type": "stream",
     "text": [
      "[2, 4, 6, 8, 10]\n"
     ]
    }
   ],
   "source": [
    "angka = [2,4,6,8,10,2,4,6,8,10]\n",
    "angka_unik = []\n",
    "for anggota in angka:\n",
    "    if anggota not in angka_unik:\n",
    "        angka_unik.append(anggota)\n",
    "print(angka_unik)"
   ]
  },
  {
   "cell_type": "markdown",
   "id": "eb430144",
   "metadata": {},
   "source": [
    "# 5.16 List 2 Dimensi"
   ]
  },
  {
   "cell_type": "code",
   "execution_count": 60,
   "id": "e38f3dec",
   "metadata": {},
   "outputs": [
    {
     "name": "stdout",
     "output_type": "stream",
     "text": [
      "[[1, 2, 3, 4], [5, 6, 7, 8], [9, 10, 11, 12], [13, 14, 15, 16]]\n"
     ]
    }
   ],
   "source": [
    "matrik = [\n",
    "    [1,2,3,4],\n",
    "    [5,6,7,8],\n",
    "    [9,10,11,12],\n",
    "    [13,14,15,16]\n",
    "]\n",
    "print(matrik)"
   ]
  },
  {
   "cell_type": "code",
   "execution_count": 61,
   "id": "430f937d",
   "metadata": {},
   "outputs": [
    {
     "data": {
      "text/plain": [
       "[5, 6, 7, 8]"
      ]
     },
     "execution_count": 61,
     "metadata": {},
     "output_type": "execute_result"
    }
   ],
   "source": [
    "matrik[1]"
   ]
  },
  {
   "cell_type": "code",
   "execution_count": 62,
   "id": "4fa2df04",
   "metadata": {},
   "outputs": [
    {
     "data": {
      "text/plain": [
       "[9, 10, 11, 12]"
      ]
     },
     "execution_count": 62,
     "metadata": {},
     "output_type": "execute_result"
    }
   ],
   "source": [
    "matrik[2]"
   ]
  },
  {
   "cell_type": "code",
   "execution_count": 63,
   "id": "74c24532",
   "metadata": {},
   "outputs": [
    {
     "data": {
      "text/plain": [
       "[13, 14, 15, 16]"
      ]
     },
     "execution_count": 63,
     "metadata": {},
     "output_type": "execute_result"
    }
   ],
   "source": [
    "matrik[3]"
   ]
  },
  {
   "cell_type": "code",
   "execution_count": 65,
   "id": "80b20312",
   "metadata": {},
   "outputs": [
    {
     "data": {
      "text/plain": [
       "7"
      ]
     },
     "execution_count": 65,
     "metadata": {},
     "output_type": "execute_result"
    }
   ],
   "source": [
    "matrik[1][2]"
   ]
  },
  {
   "cell_type": "code",
   "execution_count": 66,
   "id": "5e375515",
   "metadata": {},
   "outputs": [
    {
     "data": {
      "text/plain": [
       "12"
      ]
     },
     "execution_count": 66,
     "metadata": {},
     "output_type": "execute_result"
    }
   ],
   "source": [
    "matrik[2][3]"
   ]
  },
  {
   "cell_type": "code",
   "execution_count": 67,
   "id": "2e430bc5",
   "metadata": {},
   "outputs": [
    {
     "name": "stdout",
     "output_type": "stream",
     "text": [
      "100\n"
     ]
    }
   ],
   "source": [
    "matrik[1][2]=100\n",
    "print(matrik[1][2])"
   ]
  },
  {
   "cell_type": "code",
   "execution_count": 68,
   "id": "b07bdac1",
   "metadata": {},
   "outputs": [
    {
     "data": {
      "text/plain": [
       "[[1, 2, 3, 4], [5, 6, 100, 8], [9, 10, 11, 12], [13, 14, 15, 16]]"
      ]
     },
     "execution_count": 68,
     "metadata": {},
     "output_type": "execute_result"
    }
   ],
   "source": [
    "matrik"
   ]
  },
  {
   "cell_type": "code",
   "execution_count": 69,
   "id": "c188b947",
   "metadata": {},
   "outputs": [
    {
     "name": "stdout",
     "output_type": "stream",
     "text": [
      "[1, 2, 3, 4]\n",
      "1\n",
      "2\n",
      "3\n",
      "4\n",
      "[5, 6, 100, 8]\n",
      "5\n",
      "6\n",
      "100\n",
      "8\n",
      "[9, 10, 11, 12]\n",
      "9\n",
      "10\n",
      "11\n",
      "12\n",
      "[13, 14, 15, 16]\n",
      "13\n",
      "14\n",
      "15\n",
      "16\n"
     ]
    }
   ],
   "source": [
    "for baris in matrik:\n",
    "    print(baris)\n",
    "    for kolom in baris:\n",
    "        print(kolom)"
   ]
  },
  {
   "cell_type": "code",
   "execution_count": 70,
   "id": "f86f5ccb",
   "metadata": {},
   "outputs": [
    {
     "name": "stdout",
     "output_type": "stream",
     "text": [
      "[[1, 0, 0, 0], [0, 1, 0, 0], [0, 0, 1, 0], [0, 0, 0, 1]]\n"
     ]
    }
   ],
   "source": [
    "matriks = [\n",
    "    [1,0,0,0],\n",
    "    [0,1,0,0],\n",
    "    [0,0,1,0],\n",
    "    [0,0,0,1]\n",
    "]\n",
    "print(matriks)"
   ]
  },
  {
   "cell_type": "code",
   "execution_count": 71,
   "id": "5f6d2ec2",
   "metadata": {},
   "outputs": [
    {
     "data": {
      "text/plain": [
       "[0, 0, 1, 0]"
      ]
     },
     "execution_count": 71,
     "metadata": {},
     "output_type": "execute_result"
    }
   ],
   "source": [
    "matriks[2]"
   ]
  },
  {
   "cell_type": "code",
   "execution_count": 72,
   "id": "a55ed9ba",
   "metadata": {},
   "outputs": [
    {
     "data": {
      "text/plain": [
       "[0, 1, 0, 0]"
      ]
     },
     "execution_count": 72,
     "metadata": {},
     "output_type": "execute_result"
    }
   ],
   "source": [
    "matriks[1]"
   ]
  },
  {
   "cell_type": "code",
   "execution_count": 73,
   "id": "a9522440",
   "metadata": {},
   "outputs": [
    {
     "name": "stdout",
     "output_type": "stream",
     "text": [
      "55\n"
     ]
    }
   ],
   "source": [
    "matriks[1][2]=55\n",
    "print(matriks[1][2])"
   ]
  },
  {
   "cell_type": "code",
   "execution_count": 74,
   "id": "712bd52f",
   "metadata": {},
   "outputs": [
    {
     "data": {
      "text/plain": [
       "[[1, 0, 0, 0], [0, 1, 55, 0], [0, 0, 1, 0], [0, 0, 0, 1]]"
      ]
     },
     "execution_count": 74,
     "metadata": {},
     "output_type": "execute_result"
    }
   ],
   "source": [
    "matriks"
   ]
  },
  {
   "cell_type": "code",
   "execution_count": 75,
   "id": "b047eb56",
   "metadata": {},
   "outputs": [
    {
     "name": "stdout",
     "output_type": "stream",
     "text": [
      "[1, 0, 0, 0]\n",
      "1\n",
      "0\n",
      "0\n",
      "0\n",
      "[0, 1, 55, 0]\n",
      "0\n",
      "1\n",
      "55\n",
      "0\n",
      "[0, 0, 1, 0]\n",
      "0\n",
      "0\n",
      "1\n",
      "0\n",
      "[0, 0, 0, 1]\n",
      "0\n",
      "0\n",
      "0\n",
      "1\n"
     ]
    }
   ],
   "source": [
    "for kolom in matriks:\n",
    "    print(kolom)\n",
    "    for baris in kolom:\n",
    "        print(baris)"
   ]
  },
  {
   "cell_type": "markdown",
   "id": "73425f61",
   "metadata": {},
   "source": [
    "# 5.17 Tuples"
   ]
  },
  {
   "cell_type": "code",
   "execution_count": 1,
   "id": "50d0a0d6",
   "metadata": {},
   "outputs": [
    {
     "name": "stdout",
     "output_type": "stream",
     "text": [
      "0\n"
     ]
    }
   ],
   "source": [
    "angka = (0,1,1,3,4,5)\n",
    "print(angka[0])"
   ]
  },
  {
   "cell_type": "code",
   "execution_count": 2,
   "id": "db66f202",
   "metadata": {},
   "outputs": [
    {
     "name": "stdout",
     "output_type": "stream",
     "text": [
      "(0, 1, 1)\n"
     ]
    }
   ],
   "source": [
    "print(angka[0:3])"
   ]
  },
  {
   "cell_type": "code",
   "execution_count": 3,
   "id": "991dce4b",
   "metadata": {},
   "outputs": [
    {
     "name": "stdout",
     "output_type": "stream",
     "text": [
      "0\n",
      "1\n",
      "1\n"
     ]
    }
   ],
   "source": [
    "for isi in angka[0:3]:\n",
    "    print(isi)"
   ]
  },
  {
   "cell_type": "code",
   "execution_count": null,
   "id": "d5a68c2e",
   "metadata": {},
   "outputs": [],
   "source": [
    "angka[0] = 10"
   ]
  },
  {
   "cell_type": "code",
   "execution_count": null,
   "id": "77839b31",
   "metadata": {},
   "outputs": [],
   "source": [
    "angka.append(10)"
   ]
  },
  {
   "cell_type": "code",
   "execution_count": null,
   "id": "786c9989",
   "metadata": {},
   "outputs": [],
   "source": [
    "angka.remove(5)"
   ]
  },
  {
   "cell_type": "code",
   "execution_count": 12,
   "id": "40261dc2",
   "metadata": {
    "scrolled": true
   },
   "outputs": [
    {
     "data": {
      "text/plain": [
       "2"
      ]
     },
     "execution_count": 12,
     "metadata": {},
     "output_type": "execute_result"
    }
   ],
   "source": [
    "angka.count(1)"
   ]
  },
  {
   "cell_type": "code",
   "execution_count": 13,
   "id": "e3daf9a3",
   "metadata": {},
   "outputs": [
    {
     "data": {
      "text/plain": [
       "3"
      ]
     },
     "execution_count": 13,
     "metadata": {},
     "output_type": "execute_result"
    }
   ],
   "source": [
    "angka.index(3)"
   ]
  },
  {
   "cell_type": "code",
   "execution_count": 14,
   "id": "d6b80ff0",
   "metadata": {},
   "outputs": [
    {
     "name": "stdout",
     "output_type": "stream",
     "text": [
      "7\n"
     ]
    }
   ],
   "source": [
    "angka = (2,3,5,7,11,13)\n",
    "print(angka[3])"
   ]
  },
  {
   "cell_type": "code",
   "execution_count": 15,
   "id": "e712fbdd",
   "metadata": {},
   "outputs": [
    {
     "name": "stdout",
     "output_type": "stream",
     "text": [
      "()\n"
     ]
    }
   ],
   "source": [
    "print(angka[2:1])"
   ]
  },
  {
   "cell_type": "code",
   "execution_count": 16,
   "id": "b50b3157",
   "metadata": {},
   "outputs": [
    {
     "name": "stdout",
     "output_type": "stream",
     "text": [
      "(3, 5)\n"
     ]
    }
   ],
   "source": [
    "print(angka[1:3])"
   ]
  },
  {
   "cell_type": "code",
   "execution_count": 18,
   "id": "aaaeac8e",
   "metadata": {},
   "outputs": [
    {
     "name": "stdout",
     "output_type": "stream",
     "text": [
      "3\n",
      "5\n"
     ]
    }
   ],
   "source": [
    "for isi in angka[1:3]:\n",
    "    print(isi)"
   ]
  },
  {
   "cell_type": "code",
   "execution_count": 19,
   "id": "cd834775",
   "metadata": {},
   "outputs": [
    {
     "data": {
      "text/plain": [
       "1"
      ]
     },
     "execution_count": 19,
     "metadata": {},
     "output_type": "execute_result"
    }
   ],
   "source": [
    "angka.count(2)"
   ]
  },
  {
   "cell_type": "code",
   "execution_count": 21,
   "id": "5664c41a",
   "metadata": {},
   "outputs": [
    {
     "data": {
      "text/plain": [
       "0"
      ]
     },
     "execution_count": 21,
     "metadata": {},
     "output_type": "execute_result"
    }
   ],
   "source": [
    "angka.index(2)"
   ]
  },
  {
   "cell_type": "markdown",
   "id": "c9a459bc",
   "metadata": {},
   "source": [
    "# 5.18 Dictionaries"
   ]
  },
  {
   "cell_type": "code",
   "execution_count": 29,
   "id": "a8531e51",
   "metadata": {},
   "outputs": [],
   "source": [
    "data_orang = {\n",
    "    \"nama\" : \"Sukma Mulyani\",\n",
    "    \"umur\" : 19,\n",
    "    \"apakah_single\" : True\n",
    "}"
   ]
  },
  {
   "cell_type": "code",
   "execution_count": 30,
   "id": "2775e220",
   "metadata": {},
   "outputs": [
    {
     "name": "stdout",
     "output_type": "stream",
     "text": [
      "Sukma Mulyani\n"
     ]
    }
   ],
   "source": [
    "print(data_orang['nama'])"
   ]
  },
  {
   "cell_type": "code",
   "execution_count": 31,
   "id": "79ceb7ce",
   "metadata": {},
   "outputs": [
    {
     "name": "stdout",
     "output_type": "stream",
     "text": [
      "Sukma Mulyani\n"
     ]
    }
   ],
   "source": [
    "print(data_orang.get('nama'))"
   ]
  },
  {
   "cell_type": "code",
   "execution_count": 32,
   "id": "955dc3c5",
   "metadata": {},
   "outputs": [
    {
     "name": "stdout",
     "output_type": "stream",
     "text": [
      "None\n"
     ]
    }
   ],
   "source": [
    "print(data_orang.get('tanggal_lahir'))"
   ]
  },
  {
   "cell_type": "code",
   "execution_count": 33,
   "id": "c7542b00",
   "metadata": {},
   "outputs": [
    {
     "name": "stdout",
     "output_type": "stream",
     "text": [
      "15-4-2003\n"
     ]
    }
   ],
   "source": [
    "print(data_orang.get('tanggal_lahir', '15-4-2003'))"
   ]
  },
  {
   "cell_type": "code",
   "execution_count": 34,
   "id": "f4a45c20",
   "metadata": {},
   "outputs": [
    {
     "name": "stdout",
     "output_type": "stream",
     "text": [
      "{'nama': 'Sukma Mulyani', 'umur': 19, 'apakah_single': True}\n"
     ]
    }
   ],
   "source": [
    "print(data_orang)"
   ]
  },
  {
   "cell_type": "code",
   "execution_count": 63,
   "id": "fa683946",
   "metadata": {},
   "outputs": [
    {
     "ename": "KeyError",
     "evalue": "('tanggal_lahir', '15-5-2003')",
     "output_type": "error",
     "traceback": [
      "\u001b[1;31m---------------------------------------------------------------------------\u001b[0m",
      "\u001b[1;31mKeyError\u001b[0m                                  Traceback (most recent call last)",
      "\u001b[1;32m~\\AppData\\Local\\Temp/ipykernel_5852/1106670797.py\u001b[0m in \u001b[0;36m<module>\u001b[1;34m\u001b[0m\n\u001b[1;32m----> 1\u001b[1;33m \u001b[0mprint\u001b[0m\u001b[1;33m(\u001b[0m\u001b[0mdata_orang\u001b[0m\u001b[1;33m[\u001b[0m\u001b[1;34m'tanggal_lahir'\u001b[0m\u001b[1;33m,\u001b[0m \u001b[1;34m'15-5-2003'\u001b[0m\u001b[1;33m]\u001b[0m\u001b[1;33m)\u001b[0m\u001b[1;33m\u001b[0m\u001b[1;33m\u001b[0m\u001b[0m\n\u001b[0m",
      "\u001b[1;31mKeyError\u001b[0m: ('tanggal_lahir', '15-5-2003')"
     ]
    }
   ],
   "source": [
    "print(data_orang['tanggal_lahir', '15-5-2003'])"
   ]
  },
  {
   "cell_type": "code",
   "execution_count": 39,
   "id": "11fefaa0",
   "metadata": {},
   "outputs": [],
   "source": [
    "data_orang['HP'] = \"082331993448\""
   ]
  },
  {
   "cell_type": "code",
   "execution_count": 40,
   "id": "7a05b71e",
   "metadata": {},
   "outputs": [
    {
     "name": "stdout",
     "output_type": "stream",
     "text": [
      "082331993448\n"
     ]
    }
   ],
   "source": [
    "print(data_orang['HP'])"
   ]
  },
  {
   "cell_type": "code",
   "execution_count": 41,
   "id": "92eb2207",
   "metadata": {},
   "outputs": [
    {
     "name": "stdout",
     "output_type": "stream",
     "text": [
      "{'nama': 'Sukma Mulyani', 'umur': 19, 'apakah_single': True, 'HP': '082331993448'}\n"
     ]
    }
   ],
   "source": [
    "print(data_orang)"
   ]
  },
  {
   "cell_type": "markdown",
   "id": "6a84a676",
   "metadata": {},
   "source": [
    "# Latihan 5.18"
   ]
  },
  {
   "cell_type": "code",
   "execution_count": 42,
   "id": "efc04c32",
   "metadata": {},
   "outputs": [],
   "source": [
    "angka = {\n",
    "    \"0\" : 'nol',\n",
    "    \"1\" : 'satu',\n",
    "    \"2\" : 'dua',\n",
    "    \"3\" : 'tiga',\n",
    "    \"4\" : 'empat',\n",
    "    \"5\" : 'lima',\n",
    "    \"6\" : 'enam',\n",
    "    \"7\" : 'tujuh', \n",
    "    \"8\" : 'delapan',\n",
    "    \"9\" : 'sembilan',\n",
    "}"
   ]
  },
  {
   "cell_type": "code",
   "execution_count": 43,
   "id": "e6aa772b",
   "metadata": {},
   "outputs": [
    {
     "name": "stdout",
     "output_type": "stream",
     "text": [
      "Masukkan nomor HP anda 082445798103\n",
      "nol delapan dua empat empat lima tujuh sembilan delapan satu nol tiga \n"
     ]
    }
   ],
   "source": [
    "nomor_HP = input(\"Masukkan nomor HP anda \")\n",
    "nomor_angka = \"\"\n",
    "for isi in nomor_HP:\n",
    "    nomor_angka += angka.get(isi) + \" \"\n",
    "print(nomor_angka)"
   ]
  },
  {
   "cell_type": "markdown",
   "id": "0dfc9a2a",
   "metadata": {},
   "source": [
    "# 5.19 Fungsi dalam Python "
   ]
  },
  {
   "cell_type": "code",
   "execution_count": 44,
   "id": "601c8050",
   "metadata": {},
   "outputs": [],
   "source": [
    "def full_name(frist_name,last_name):\n",
    "    print(f\"Nama lengkapnya adalah {nama_depan} {nama_belakang}\")"
   ]
  },
  {
   "cell_type": "code",
   "execution_count": 48,
   "id": "268c1d9c",
   "metadata": {},
   "outputs": [
    {
     "name": "stdout",
     "output_type": "stream",
     "text": [
      "Nama depan anda adalah Sukma\n",
      "Nama belakang anda adalah Mulyani\n"
     ]
    }
   ],
   "source": [
    "frist_name = input(\"Nama depan anda adalah \")\n",
    "last_name = input(\"Nama belakang anda adalah \")\n",
    "full_name = (\"nama_depan\", \"nama_belakang\")"
   ]
  },
  {
   "cell_type": "markdown",
   "id": "bf4fe726",
   "metadata": {},
   "source": [
    "# 5.19.1 Tugas Fungsi pada Python"
   ]
  },
  {
   "cell_type": "code",
   "execution_count": 49,
   "id": "ddd09f24",
   "metadata": {},
   "outputs": [],
   "source": [
    "def waktu_sampai(jarak,kecepatan):\n",
    "    waktu = jarak/kecepatan\n",
    "    print(waktu)"
   ]
  },
  {
   "cell_type": "code",
   "execution_count": 50,
   "id": "d11e23e6",
   "metadata": {},
   "outputs": [],
   "source": [
    "def waktu_tempuh(jarak,kecepatan):\n",
    "    waktu= jarak/kecepatan\n",
    "    return waktu"
   ]
  },
  {
   "cell_type": "code",
   "execution_count": 52,
   "id": "de82fc49",
   "metadata": {},
   "outputs": [
    {
     "name": "stdout",
     "output_type": "stream",
     "text": [
      "1.2142857142857142\n"
     ]
    }
   ],
   "source": [
    "waktu_sampai(85,70)"
   ]
  },
  {
   "cell_type": "code",
   "execution_count": 53,
   "id": "c67ab504",
   "metadata": {},
   "outputs": [
    {
     "data": {
      "text/plain": [
       "1.2142857142857142"
      ]
     },
     "execution_count": 53,
     "metadata": {},
     "output_type": "execute_result"
    }
   ],
   "source": [
    "waktu_tempuh(85,70)"
   ]
  },
  {
   "cell_type": "code",
   "execution_count": 54,
   "id": "28cb4570",
   "metadata": {},
   "outputs": [
    {
     "name": "stdout",
     "output_type": "stream",
     "text": [
      "1.2142857142857142\n",
      "None\n"
     ]
    }
   ],
   "source": [
    "i = waktu_sampai(85,70)\n",
    "print(i)"
   ]
  },
  {
   "cell_type": "code",
   "execution_count": 55,
   "id": "f1ba4e53",
   "metadata": {},
   "outputs": [
    {
     "name": "stdout",
     "output_type": "stream",
     "text": [
      "1.2142857142857142\n"
     ]
    }
   ],
   "source": [
    "j = waktu_tempuh(85,70)\n",
    "print(j)"
   ]
  },
  {
   "cell_type": "markdown",
   "id": "c4f4e8d2",
   "metadata": {},
   "source": [
    "# Latihan 5.19.1"
   ]
  },
  {
   "cell_type": "code",
   "execution_count": 56,
   "id": "9ca007cc",
   "metadata": {},
   "outputs": [],
   "source": [
    "import numpy as np"
   ]
  },
  {
   "cell_type": "code",
   "execution_count": 57,
   "id": "7cc19083",
   "metadata": {},
   "outputs": [],
   "source": [
    "def luas_segitiga(alas,tinggi):\n",
    "    luas = (1/2)*alas*tinggi\n",
    "    return luas\n",
    "def luas_lingkaran(jari_jari):\n",
    "    luas = np.pi*(jari_jari**2)\n",
    "    return luas\n",
    "def luas_persegi(sisi):\n",
    "    luas = sisi**2\n",
    "    return luas\n",
    "def luas_persegi_panjang(panjang,lebar):\n",
    "    luas = panjang*lebar\n",
    "    return luas"
   ]
  },
  {
   "cell_type": "code",
   "execution_count": 58,
   "id": "1dd4484d",
   "metadata": {},
   "outputs": [
    {
     "name": "stdout",
     "output_type": "stream",
     "text": [
      "Tulis jenis bidangnya PERSEGI\n",
      "Berapakah panjang sisinya? 12\n",
      "Luas PERSEGI adalah 144.0\n"
     ]
    }
   ],
   "source": [
    "jenis_bidang = input(\"Tulis jenis bidangnya \")\n",
    "if jenis_bidang.upper() == 'SEGITIGA' :\n",
    "    alas = float(input('Berapakah panjang alasnya? '))\n",
    "    tinggi = float(input('Berapakah tingginya? '))\n",
    "    luas = luas_segitiga(alas,tinggi)\n",
    "    print(f\"Luas {jenis_bidang} adalah {luas}\")\n",
    "elif jenis_bidang.upper() == 'LINGKARAN' :\n",
    "    jari_jari = float(input('Berapakah panjang jari-jarinya? '))\n",
    "    luas = luas_lingkaran(jari_jari)\n",
    "    print(f\"Luas {jenis_bidang} adalah {luas}\")\n",
    "elif (jenis_bidang.upper() == 'PERSEGI') or (jenis_bidang.upper() == 'BUJUR SANGKAR'):\n",
    "    sisi = float(input('Berapakah panjang sisinya? '))\n",
    "    luas = luas_persegi(sisi)\n",
    "    print(f\"Luas {jenis_bidang} adalah {luas}\")\n",
    "elif jenis_bidang.upper() == 'PERSEGI PANJANG':\n",
    "    panjang = float(input('Berapakah panjangnya? '))\n",
    "    lebar = float(input('Berapakah lebarnya? '))\n",
    "    luas = luas_persegi_panjang(panjang,lebar)\n",
    "    print(f\"Luas {jenis_bidang} adalah {luas}\")\n",
    "else:\n",
    "    print(f\"Maaf bidang {jenisbidang} yang anda masukkan tidak ada.\")\n",
    "    print(\"Pilihan cuma SEGITIGA, LINGKARAN, PERSEGI dan PERSEGI PANJANG.\")\n",
    "    print('Terimakasih')"
   ]
  },
  {
   "cell_type": "code",
   "execution_count": null,
   "id": "228cb6f5",
   "metadata": {},
   "outputs": [],
   "source": []
  }
 ],
 "metadata": {
  "kernelspec": {
   "display_name": "Python 3 (ipykernel)",
   "language": "python",
   "name": "python3"
  },
  "language_info": {
   "codemirror_mode": {
    "name": "ipython",
    "version": 3
   },
   "file_extension": ".py",
   "mimetype": "text/x-python",
   "name": "python",
   "nbconvert_exporter": "python",
   "pygments_lexer": "ipython3",
   "version": "3.9.7"
  }
 },
 "nbformat": 4,
 "nbformat_minor": 5
}
