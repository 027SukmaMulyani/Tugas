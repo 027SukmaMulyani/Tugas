{
 "cells": [
  {
   "cell_type": "markdown",
   "id": "cece6a1c",
   "metadata": {},
   "source": [
    "# 5.12 List di Python"
   ]
  },
  {
   "cell_type": "code",
   "execution_count": null,
   "id": "7798480c",
   "metadata": {},
   "outputs": [],
   "source": [
    "buah = ['apel', 'jeruk', 'semangka', 'nanas']\n",
    "print(buah)"
   ]
  },
  {
   "cell_type": "code",
   "execution_count": null,
   "id": "2c6e99c0",
   "metadata": {},
   "outputs": [],
   "source": [
    "print(buah[0])"
   ]
  },
  {
   "cell_type": "code",
   "execution_count": null,
   "id": "4c5c0913",
   "metadata": {},
   "outputs": [],
   "source": [
    "print(buah[3])"
   ]
  },
  {
   "cell_type": "code",
   "execution_count": null,
   "id": "09beb3ff",
   "metadata": {},
   "outputs": [],
   "source": [
    "print(buah[-1])"
   ]
  },
  {
   "cell_type": "code",
   "execution_count": null,
   "id": "6d92dc98",
   "metadata": {},
   "outputs": [],
   "source": [
    "print(buah[-3])"
   ]
  },
  {
   "cell_type": "code",
   "execution_count": null,
   "id": "fd6504ae",
   "metadata": {},
   "outputs": [],
   "source": [
    "buah[1] = 'anggur'\n",
    "print(buah)"
   ]
  },
  {
   "cell_type": "code",
   "execution_count": null,
   "id": "fbbe3311",
   "metadata": {},
   "outputs": [],
   "source": [
    "print(buah[2:1])"
   ]
  },
  {
   "cell_type": "code",
   "execution_count": null,
   "id": "9245c206",
   "metadata": {},
   "outputs": [],
   "source": [
    "print(buah[1:3])"
   ]
  },
  {
   "cell_type": "code",
   "execution_count": null,
   "id": "e8317bf8",
   "metadata": {},
   "outputs": [],
   "source": [
    "#tidak merubah list\n",
    "print(buah)"
   ]
  },
  {
   "cell_type": "code",
   "execution_count": null,
   "id": "27d543ca",
   "metadata": {},
   "outputs": [],
   "source": [
    "benda = 'buku', 'tas', 'pulpen', 'binder', 'laptop'\n",
    "print(benda)"
   ]
  },
  {
   "cell_type": "code",
   "execution_count": null,
   "id": "83c2987c",
   "metadata": {},
   "outputs": [],
   "source": [
    "print(benda[3])"
   ]
  },
  {
   "cell_type": "code",
   "execution_count": null,
   "id": "ad662153",
   "metadata": {},
   "outputs": [],
   "source": [
    "print(benda[-4])"
   ]
  },
  {
   "cell_type": "code",
   "execution_count": null,
   "id": "ae60e2f6",
   "metadata": {},
   "outputs": [],
   "source": [
    "print(benda[1:3])"
   ]
  },
  {
   "cell_type": "code",
   "execution_count": null,
   "id": "c70806b9",
   "metadata": {},
   "outputs": [],
   "source": [
    "#tidak merubah list\n",
    "print(benda)"
   ]
  },
  {
   "cell_type": "markdown",
   "id": "d1f2643a",
   "metadata": {},
   "source": [
    "# 5.13 Metoda List"
   ]
  },
  {
   "cell_type": "code",
   "execution_count": null,
   "id": "1bdf55aa",
   "metadata": {},
   "outputs": [],
   "source": [
    "nama = ['Luh', 'Sukma', 'Mulyani']\n",
    "nama.append('Anggun')\n",
    "print(nama)"
   ]
  },
  {
   "cell_type": "code",
   "execution_count": null,
   "id": "2e2f945a",
   "metadata": {},
   "outputs": [],
   "source": [
    "nama.insert(1, 'Ratna')\n",
    "print(nama)"
   ]
  },
  {
   "cell_type": "code",
   "execution_count": null,
   "id": "f099b196",
   "metadata": {},
   "outputs": [],
   "source": [
    "nama.remove('Sukma')\n",
    "print(nama)"
   ]
  },
  {
   "cell_type": "code",
   "execution_count": null,
   "id": "13a7f3a7",
   "metadata": {},
   "outputs": [],
   "source": [
    "print('Luh' in nama)"
   ]
  },
  {
   "cell_type": "code",
   "execution_count": null,
   "id": "810f77bd",
   "metadata": {},
   "outputs": [],
   "source": [
    "print('mulyani' in nama)"
   ]
  },
  {
   "cell_type": "code",
   "execution_count": null,
   "id": "c9ee11cd",
   "metadata": {},
   "outputs": [],
   "source": [
    "print(len(nama))"
   ]
  },
  {
   "cell_type": "markdown",
   "id": "4ba89d1a",
   "metadata": {},
   "source": [
    "# 5.14 For Loop"
   ]
  },
  {
   "cell_type": "code",
   "execution_count": null,
   "id": "0f9ca03b",
   "metadata": {},
   "outputs": [],
   "source": [
    "buah = ['alpukat', 'melon', 'sirsak', 'blubery', 'nanas']\n",
    "for jenis in buah:\n",
    "    print(jenis)"
   ]
  },
  {
   "cell_type": "code",
   "execution_count": null,
   "id": "111902cc",
   "metadata": {},
   "outputs": [],
   "source": [
    "i=0\n",
    "while i < len(buah):\n",
    "    print(buah[i])\n",
    "    i+=1"
   ]
  },
  {
   "cell_type": "code",
   "execution_count": null,
   "id": "5f40571e",
   "metadata": {},
   "outputs": [],
   "source": [
    "i=1\n",
    "while i < len(buah):\n",
    "    print(buah[i])\n",
    "    i+=2"
   ]
  },
  {
   "cell_type": "code",
   "execution_count": null,
   "id": "4f4bc825",
   "metadata": {},
   "outputs": [],
   "source": [
    "alat_tulis = ['pensil', 'spidol', 'penghapus', 'pulpen']\n",
    "for jenis in alat_tulis:\n",
    "    print(jenis)"
   ]
  },
  {
   "cell_type": "code",
   "execution_count": null,
   "id": "05346a2d",
   "metadata": {},
   "outputs": [],
   "source": [
    "a = 2\n",
    "while a < len(alat_tulis):\n",
    "    print(alat_tulis[a])\n",
    "    a+=3"
   ]
  },
  {
   "cell_type": "markdown",
   "id": "e5b50d17",
   "metadata": {},
   "source": [
    "# 5.15 Fungsi range"
   ]
  },
  {
   "cell_type": "code",
   "execution_count": null,
   "id": "00706b6f",
   "metadata": {},
   "outputs": [],
   "source": [
    "angka = range(6)\n",
    "print(angka)"
   ]
  },
  {
   "cell_type": "code",
   "execution_count": null,
   "id": "e06994b4",
   "metadata": {},
   "outputs": [],
   "source": [
    "for isi in angka :\n",
    "    print(isi)"
   ]
  },
  {
   "cell_type": "code",
   "execution_count": null,
   "id": "08bc8672",
   "metadata": {},
   "outputs": [],
   "source": [
    "for isi in range(5,10):\n",
    "    print(isi)"
   ]
  },
  {
   "cell_type": "code",
   "execution_count": null,
   "id": "e1eddc72",
   "metadata": {},
   "outputs": [],
   "source": [
    "for isi in range(0,10,2) :\n",
    "    print(isi)"
   ]
  },
  {
   "cell_type": "code",
   "execution_count": null,
   "id": "8445b556",
   "metadata": {},
   "outputs": [],
   "source": [
    "for isi in range(2) :\n",
    "    print(isi)"
   ]
  },
  {
   "cell_type": "code",
   "execution_count": null,
   "id": "17dc81bd",
   "metadata": {},
   "outputs": [],
   "source": [
    "for isi in range(10, 20) :\n",
    "    print(isi)"
   ]
  },
  {
   "cell_type": "markdown",
   "id": "202eb04a",
   "metadata": {},
   "source": [
    "# Latihan 5.15 \n",
    "no 1"
   ]
  },
  {
   "cell_type": "code",
   "execution_count": null,
   "id": "bf66506b",
   "metadata": {},
   "outputs": [],
   "source": [
    "data = [1,2,3,4,5,4,3,2,1]\n",
    "terbesar = data[0]\n",
    "for a in range(len(data)):\n",
    "    if data[a] > terbesar:\n",
    "        terbesar = data[a]\n",
    "print(terbesar)"
   ]
  },
  {
   "cell_type": "code",
   "execution_count": null,
   "id": "3c544561",
   "metadata": {},
   "outputs": [],
   "source": [
    "data = [1,2,3,4,5,4,3,2,1]\n",
    "terbesar = data[0]\n",
    "for angka in data:\n",
    "    if angka > terbesar:\n",
    "        terbesar = angka\n",
    "print(terbesar)"
   ]
  },
  {
   "cell_type": "code",
   "execution_count": null,
   "id": "09e2e6be",
   "metadata": {},
   "outputs": [],
   "source": [
    "data = [2,4,6,8,10,2,4,6,8]\n",
    "terbesar = data[2]\n",
    "for angka in data:\n",
    "    if angka > terbesar:\n",
    "        terbesar = angka\n",
    "print(terbesar)"
   ]
  },
  {
   "cell_type": "code",
   "execution_count": null,
   "id": "00edfbac",
   "metadata": {},
   "outputs": [],
   "source": [
    "data = [2,4,6,8,10,2,4,6,8]\n",
    "terbesar = data[2]\n",
    "for x in range(len(data)):\n",
    "    if data[x] > terbesar:\n",
    "        terbesar = data[x]\n",
    "print(terbesar)"
   ]
  },
  {
   "cell_type": "markdown",
   "id": "e8de83dd",
   "metadata": {},
   "source": [
    "# no 2 "
   ]
  },
  {
   "cell_type": "code",
   "execution_count": null,
   "id": "8acdec32",
   "metadata": {},
   "outputs": [],
   "source": [
    "angka = [2,4,6,8,10,2,4,6,8,10]\n",
    "angka_unik = []\n",
    "for anggota in angka:\n",
    "    if anggota not in angka_unik:\n",
    "        angka_unik.append(anggota)\n",
    "print(angka_unik)"
   ]
  },
  {
   "cell_type": "markdown",
   "id": "92c295ba",
   "metadata": {},
   "source": [
    "# 5.16 List 2 Dimensi"
   ]
  },
  {
   "cell_type": "code",
   "execution_count": null,
   "id": "879a0171",
   "metadata": {},
   "outputs": [],
   "source": [
    "matrik = [\n",
    "    [1,2,3,4],\n",
    "    [5,6,7,8],\n",
    "    [9,10,11,12],\n",
    "    [13,14,15,16]\n",
    "]\n",
    "print(matrik)"
   ]
  },
  {
   "cell_type": "code",
   "execution_count": null,
   "id": "a9779a34",
   "metadata": {},
   "outputs": [],
   "source": [
    "matrik[1]"
   ]
  },
  {
   "cell_type": "code",
   "execution_count": null,
   "id": "eec5b825",
   "metadata": {},
   "outputs": [],
   "source": [
    "matrik[2]"
   ]
  },
  {
   "cell_type": "code",
   "execution_count": null,
   "id": "f2084d0a",
   "metadata": {},
   "outputs": [],
   "source": [
    "matrik[3]"
   ]
  },
  {
   "cell_type": "code",
   "execution_count": null,
   "id": "ddebe89c",
   "metadata": {},
   "outputs": [],
   "source": [
    "matrik[1][2]"
   ]
  },
  {
   "cell_type": "code",
   "execution_count": null,
   "id": "a8b18953",
   "metadata": {},
   "outputs": [],
   "source": [
    "matrik[2][3]"
   ]
  },
  {
   "cell_type": "code",
   "execution_count": null,
   "id": "f09d037c",
   "metadata": {},
   "outputs": [],
   "source": [
    "matrik[1][2]=100\n",
    "print(matrik[1][2])"
   ]
  },
  {
   "cell_type": "code",
   "execution_count": null,
   "id": "d79631e2",
   "metadata": {},
   "outputs": [],
   "source": [
    "matrik"
   ]
  },
  {
   "cell_type": "code",
   "execution_count": null,
   "id": "9afee23b",
   "metadata": {},
   "outputs": [],
   "source": [
    "for baris in matrik:\n",
    "    print(baris)\n",
    "    for kolom in baris:\n",
    "        print(kolom)"
   ]
  },
  {
   "cell_type": "code",
   "execution_count": null,
   "id": "47357491",
   "metadata": {},
   "outputs": [],
   "source": [
    "matriks = [\n",
    "    [1,0,0,0],\n",
    "    [0,1,0,0],\n",
    "    [0,0,1,0],\n",
    "    [0,0,0,1]\n",
    "]\n",
    "print(matriks)"
   ]
  },
  {
   "cell_type": "code",
   "execution_count": null,
   "id": "d2d1122a",
   "metadata": {},
   "outputs": [],
   "source": [
    "matriks[2]"
   ]
  },
  {
   "cell_type": "code",
   "execution_count": null,
   "id": "530d20ea",
   "metadata": {},
   "outputs": [],
   "source": [
    "matriks[1]"
   ]
  },
  {
   "cell_type": "code",
   "execution_count": null,
   "id": "d892bc21",
   "metadata": {},
   "outputs": [],
   "source": [
    "matriks[1][2]=55\n",
    "print(matriks[1][2])"
   ]
  },
  {
   "cell_type": "code",
   "execution_count": null,
   "id": "7dacd0f3",
   "metadata": {},
   "outputs": [],
   "source": [
    "matriks"
   ]
  },
  {
   "cell_type": "code",
   "execution_count": null,
   "id": "d0d72ad2",
   "metadata": {},
   "outputs": [],
   "source": [
    "for kolom in matriks:\n",
    "    print(kolom)\n",
    "    for baris in kolom:\n",
    "        print(baris)"
   ]
  },
  {
   "cell_type": "markdown",
   "id": "ac382e37",
   "metadata": {},
   "source": [
    "# 5.17 Tuples"
   ]
  },
  {
   "cell_type": "code",
   "execution_count": null,
   "id": "61d5de89",
   "metadata": {},
   "outputs": [],
   "source": [
    "angka = (0,1,1,3,4,5)\n",
    "print(angka[0])"
   ]
  },
  {
   "cell_type": "code",
   "execution_count": null,
   "id": "14a27ad6",
   "metadata": {},
   "outputs": [],
   "source": [
    "print(angka[0:3])"
   ]
  },
  {
   "cell_type": "code",
   "execution_count": null,
   "id": "c53cd0f8",
   "metadata": {},
   "outputs": [],
   "source": [
    "for isi in angka[0:3]:\n",
    "    print(isi)"
   ]
  },
  {
   "cell_type": "code",
   "execution_count": null,
   "id": "5c56832c",
   "metadata": {},
   "outputs": [],
   "source": [
    "angka[0] = 10"
   ]
  },
  {
   "cell_type": "code",
   "execution_count": null,
   "id": "9a1e55cd",
   "metadata": {},
   "outputs": [],
   "source": [
    "angka.append(10)"
   ]
  },
  {
   "cell_type": "code",
   "execution_count": null,
   "id": "7387b5b9",
   "metadata": {},
   "outputs": [],
   "source": [
    "angka.remove(5)"
   ]
  },
  {
   "cell_type": "code",
   "execution_count": null,
   "id": "0d302621",
   "metadata": {},
   "outputs": [],
   "source": [
    "angka.count(1)"
   ]
  },
  {
   "cell_type": "code",
   "execution_count": null,
   "id": "dd582ad9",
   "metadata": {},
   "outputs": [],
   "source": [
    "angka.index(3)"
   ]
  },
  {
   "cell_type": "code",
   "execution_count": null,
   "id": "ab068790",
   "metadata": {},
   "outputs": [],
   "source": [
    "angka = (2,3,5,7,11,13)\n",
    "print(angka[3])"
   ]
  },
  {
   "cell_type": "code",
   "execution_count": null,
   "id": "591b4921",
   "metadata": {},
   "outputs": [],
   "source": [
    "print(angka[2:1])"
   ]
  },
  {
   "cell_type": "code",
   "execution_count": null,
   "id": "dac3d816",
   "metadata": {},
   "outputs": [],
   "source": [
    "print(angka[1:3])"
   ]
  },
  {
   "cell_type": "code",
   "execution_count": null,
   "id": "67a36325",
   "metadata": {},
   "outputs": [],
   "source": [
    "for isi in angka[1:3]:\n",
    "    print(isi)"
   ]
  },
  {
   "cell_type": "code",
   "execution_count": null,
   "id": "b03270a3",
   "metadata": {},
   "outputs": [],
   "source": [
    "angka.count(2)"
   ]
  },
  {
   "cell_type": "code",
   "execution_count": null,
   "id": "aa4609b7",
   "metadata": {},
   "outputs": [],
   "source": [
    "angka.index(2)"
   ]
  },
  {
   "cell_type": "markdown",
   "id": "16225803",
   "metadata": {},
   "source": [
    "# 5.18 Dictionaries"
   ]
  },
  {
   "cell_type": "code",
   "execution_count": null,
   "id": "35752e76",
   "metadata": {},
   "outputs": [],
   "source": [
    "data_orang = {\n",
    "    \"nama\" : \"Sukma Mulyani\",\n",
    "    \"umur\" : 19,\n",
    "    \"apakah_single\" : True\n",
    "}"
   ]
  },
  {
   "cell_type": "code",
   "execution_count": null,
   "id": "219a3048",
   "metadata": {},
   "outputs": [],
   "source": [
    "print(data_orang['nama'])"
   ]
  },
  {
   "cell_type": "code",
   "execution_count": null,
   "id": "f1789004",
   "metadata": {},
   "outputs": [],
   "source": [
    "print(data_orang.get('nama'))"
   ]
  },
  {
   "cell_type": "code",
   "execution_count": null,
   "id": "bbbe0c11",
   "metadata": {},
   "outputs": [],
   "source": [
    "print(data_orang.get('tanggal_lahir'))"
   ]
  },
  {
   "cell_type": "code",
   "execution_count": null,
   "id": "92468b43",
   "metadata": {},
   "outputs": [],
   "source": [
    "print(data_orang.get('tanggal_lahir', '15-4-2003'))"
   ]
  },
  {
   "cell_type": "code",
   "execution_count": null,
   "id": "81cf722b",
   "metadata": {},
   "outputs": [],
   "source": [
    "print(data_orang)"
   ]
  },
  {
   "cell_type": "code",
   "execution_count": null,
   "id": "013463da",
   "metadata": {},
   "outputs": [],
   "source": [
    "print(data_orang['tanggal_lahir', '15-5-2003'])"
   ]
  },
  {
   "cell_type": "code",
   "execution_count": null,
   "id": "3279879a",
   "metadata": {},
   "outputs": [],
   "source": [
    "data_orang['HP'] = \"082331993448\""
   ]
  },
  {
   "cell_type": "code",
   "execution_count": null,
   "id": "088b5c7f",
   "metadata": {},
   "outputs": [],
   "source": [
    "print(data_orang['HP'])"
   ]
  },
  {
   "cell_type": "code",
   "execution_count": null,
   "id": "6e7f1dd9",
   "metadata": {},
   "outputs": [],
   "source": [
    "print(data_orang)"
   ]
  },
  {
   "cell_type": "markdown",
   "id": "c128160f",
   "metadata": {},
   "source": [
    "# Latihan 5.18"
   ]
  },
  {
   "cell_type": "code",
   "execution_count": null,
   "id": "43d5d863",
   "metadata": {},
   "outputs": [],
   "source": [
    "angka = {\n",
    "    \"0\" : 'nol',\n",
    "    \"1\" : 'satu',\n",
    "    \"2\" : 'dua',\n",
    "    \"3\" : 'tiga',\n",
    "    \"4\" : 'empat',\n",
    "    \"5\" : 'lima',\n",
    "    \"6\" : 'enam',\n",
    "    \"7\" : 'tujuh', \n",
    "    \"8\" : 'delapan',\n",
    "    \"9\" : 'sembilan',\n",
    "}"
   ]
  },
  {
   "cell_type": "code",
   "execution_count": null,
   "id": "51e6aacd",
   "metadata": {},
   "outputs": [],
   "source": [
    "nomor_HP = input(\"Masukkan nomor HP anda \")\n",
    "nomor_angka = \"\"\n",
    "for isi in nomor_HP:\n",
    "    nomor_angka += angka.get(isi) + \" \"\n",
    "print(nomor_angka)"
   ]
  },
  {
   "cell_type": "markdown",
   "id": "579a80af",
   "metadata": {},
   "source": [
    "# 5.19 Fungsi dalam Python "
   ]
  },
  {
   "cell_type": "code",
   "execution_count": null,
   "id": "cd2fbf6f",
   "metadata": {},
   "outputs": [],
   "source": [
    "def full_name(frist_name,last_name):\n",
    "    print(f\"Nama lengkapnya adalah {nama_depan} {nama_belakang}\")"
   ]
  },
  {
   "cell_type": "code",
   "execution_count": null,
   "id": "c02b1de3",
   "metadata": {},
   "outputs": [],
   "source": [
    "frist_name = input(\"Nama depan anda adalah \")\n",
    "last_name = input(\"Nama belakang anda adalah \")\n",
    "full_name = (\"nama_depan\", \"nama_belakang\")"
   ]
  },
  {
   "cell_type": "markdown",
   "id": "3842ede2",
   "metadata": {},
   "source": [
    "# 5.19.1 Tugas Fungsi pada Python"
   ]
  },
  {
   "cell_type": "code",
   "execution_count": null,
   "id": "5f61bcda",
   "metadata": {},
   "outputs": [],
   "source": [
    "def waktu_sampai(jarak,kecepatan):\n",
    "    waktu = jarak/kecepatan\n",
    "    print(waktu)"
   ]
  },
  {
   "cell_type": "code",
   "execution_count": null,
   "id": "00d1a72c",
   "metadata": {},
   "outputs": [],
   "source": [
    "def waktu_tempuh(jarak,kecepatan):\n",
    "    waktu= jarak/kecepatan\n",
    "    return waktu"
   ]
  },
  {
   "cell_type": "code",
   "execution_count": null,
   "id": "f82b0c3c",
   "metadata": {},
   "outputs": [],
   "source": [
    "waktu_sampai(85,70)"
   ]
  },
  {
   "cell_type": "code",
   "execution_count": null,
   "id": "a56c1ac0",
   "metadata": {},
   "outputs": [],
   "source": [
    "waktu_tempuh(85,70)"
   ]
  },
  {
   "cell_type": "code",
   "execution_count": null,
   "id": "7cdc92a8",
   "metadata": {},
   "outputs": [],
   "source": [
    "i = waktu_sampai(85,70)\n",
    "print(i)"
   ]
  },
  {
   "cell_type": "code",
   "execution_count": null,
   "id": "02881044",
   "metadata": {},
   "outputs": [],
   "source": [
    "j = waktu_tempuh(85,70)\n",
    "print(j)"
   ]
  },
  {
   "cell_type": "markdown",
   "id": "99d9d341",
   "metadata": {},
   "source": [
    "# Latihan 5.19.1"
   ]
  },
  {
   "cell_type": "code",
   "execution_count": null,
   "id": "98f34f8b",
   "metadata": {},
   "outputs": [],
   "source": [
    "import numpy as np"
   ]
  },
  {
   "cell_type": "code",
   "execution_count": null,
   "id": "4dd88e3e",
   "metadata": {},
   "outputs": [],
   "source": [
    "def luas_segitiga(alas,tinggi):\n",
    "    luas = (1/2)*alas*tinggi\n",
    "    return luas\n",
    "def luas_lingkaran(jari_jari):\n",
    "    luas = np.pi*(jari_jari**2)\n",
    "    return luas\n",
    "def luas_persegi(sisi):\n",
    "    luas = sisi**2\n",
    "    return luas\n",
    "def luas_persegi_panjang(panjang,lebar):\n",
    "    luas = panjang*lebar\n",
    "    return luas"
   ]
  },
  {
   "cell_type": "code",
   "execution_count": null,
   "id": "8a0d6ebf",
   "metadata": {},
   "outputs": [],
   "source": [
    "jenis_bidang = input(\"Tulis jenis bidangnya \")\n",
    "if jenis_bidang.upper() == 'SEGITIGA' :\n",
    "    alas = float(input('Berapakah panjang alasnya? '))\n",
    "    tinggi = float(input('Berapakah tingginya? '))\n",
    "    luas = luas_segitiga(alas,tinggi)\n",
    "    print(f\"Luas {jenis_bidang} adalah {luas}\")\n",
    "elif jenis_bidang.upper() == 'LINGKARAN' :\n",
    "    jari_jari = float(input('Berapakah panjang jari-jarinya? '))\n",
    "    luas = luas_lingkaran(jari_jari)\n",
    "    print(f\"Luas {jenis_bidang} adalah {luas}\")\n",
    "elif (jenis_bidang.upper() == 'PERSEGI') or (jenis_bidang.upper() == 'BUJUR SANGKAR'):\n",
    "    sisi = float(input('Berapakah panjang sisinya? '))\n",
    "    luas = luas_persegi(sisi)\n",
    "    print(f\"Luas {jenis_bidang} adalah {luas}\")\n",
    "elif jenis_bidang.upper() == 'PERSEGI PANJANG':\n",
    "    panjang = float(input('Berapakah panjangnya? '))\n",
    "    lebar = float(input('Berapakah lebarnya? '))\n",
    "    luas = luas_persegi_panjang(panjang,lebar)\n",
    "    print(f\"Luas {jenis_bidang} adalah {luas}\")\n",
    "else:\n",
    "    print(f\"Maaf bidang {jenisbidang} yang anda masukkan tidak ada.\")\n",
    "    print(\"Pilihan cuma SEGITIGA, LINGKARAN, PERSEGI dan PERSEGI PANJANG.\")\n",
    "    print('Terimakasih')"
   ]
  }
 ],
 "metadata": {
  "kernelspec": {
   "display_name": "Python 3 (ipykernel)",
   "language": "python",
   "name": "python3"
  },
  "language_info": {
   "codemirror_mode": {
    "name": "ipython",
    "version": 3
   },
   "file_extension": ".py",
   "mimetype": "text/x-python",
   "name": "python",
   "nbconvert_exporter": "python",
   "pygments_lexer": "ipython3",
   "version": "3.9.7"
  }
 },
 "nbformat": 4,
 "nbformat_minor": 5
}
